{
 "cells": [
  {
   "cell_type": "markdown",
   "id": "85624dfb",
   "metadata": {
    "slideshow": {
     "slide_type": "slide"
    }
   },
   "source": [
    "<img align=\"left\" src=\"img/ECE364-logo.png\" width=\"300px\" style=\"padding:30px;border:thin solid white;\"> \n",
    "\n",
    "# Lecture 3 - Linear Algebra II\n",
    "## ECE364 - Programming Methods for Machine Learning\n",
    "### Nickvash Kani \n",
    "\n",
    "\n",
    "\n",
    "\n",
    "\n",
    "\n",
    "\n",
    "\n",
    "\n",
    "\n",
    "\n",
    "\n",
    "###### Slides based off prior lectures by Alex Schwing, Aigou Han, Farzas Kamalabadi, Corey Snyder. All mistakes are my own!"
   ]
  },
  {
   "cell_type": "markdown",
   "id": "195aa0c5",
   "metadata": {
    "slideshow": {
     "slide_type": "fragment"
    }
   },
   "source": [
    "Things we'll cover in today's lecture:\n",
    "\n",
    "- More matrix operations\n",
    "- Solving systems of linear equations\n",
    "- Introduction to matrix calculus\n"
   ]
  },
  {
   "cell_type": "markdown",
   "id": "d97572e2",
   "metadata": {
    "slideshow": {
     "slide_type": "slide"
    }
   },
   "source": [
    "## More matrix operations\n",
    "Here are more functions for matrix operations:\n",
    "## Slice:\n",
    "* Slicing means selecting the elements present in the tensor by using “:” slice operator. We can slice the elements by using the index of that particular element.\n",
    "* Let’s create a 3D Tensor for demonstration. We can create a vector by using **torch.tensor()** function\n"
   ]
  },
  {
   "cell_type": "code",
   "execution_count": 3,
   "id": "d28d009e",
   "metadata": {
    "slideshow": {
     "slide_type": "fragment"
    }
   },
   "outputs": [
    {
     "name": "stdout",
     "output_type": "stream",
     "text": [
      "tensor([[[ 1,  2,  3,  4,  5,  6,  7,  8],\n",
      "         [10, 11, 12, 13, 14, 15, 16, 17]],\n",
      "\n",
      "        [[71, 72, 73, 74, 75, 76, 77, 78],\n",
      "         [81, 82, 83, 84, 85, 86, 87, 88]]])\n"
     ]
    }
   ],
   "source": [
    "# import torch module\n",
    "import torch\n",
    "  \n",
    "# create an 3 D tensor with 8 elements each\n",
    "a = torch.tensor([[[1, 2, 3, 4, 5, 6, 7, 8],\n",
    "                   [10, 11, 12, 13, 14, 15, 16, 17]],\n",
    "                    \n",
    "                  [[71, 72, 73, 74, 75, 76, 77, 78],\n",
    "                   [81, 82, 83, 84, 85, 86, 87, 88]]])\n",
    "  \n",
    "# display actual  tensor\n",
    "print(a)\n"
   ]
  },
  {
   "cell_type": "markdown",
   "id": "6bd07aa9",
   "metadata": {
    "slideshow": {
     "slide_type": "slide"
    }
   },
   "source": [
    "**Alertness Check:** What is the shape of this tensor? "
   ]
  },
  {
   "cell_type": "code",
   "execution_count": 56,
   "id": "0c380916",
   "metadata": {
    "slideshow": {
     "slide_type": "fragment"
    }
   },
   "outputs": [
    {
     "name": "stdout",
     "output_type": "stream",
     "text": [
      "torch.Size([2, 2, 8])\n"
     ]
    }
   ],
   "source": [
    "print(a.shape)"
   ]
  },
  {
   "cell_type": "markdown",
   "id": "29b448cf",
   "metadata": {
    "slideshow": {
     "slide_type": "slide"
    }
   },
   "source": [
    "**Alertness Check:** Some fun slicing problems:"
   ]
  },
  {
   "cell_type": "code",
   "execution_count": 65,
   "id": "cd03c1a6",
   "metadata": {
    "slideshow": {
     "slide_type": "fragment"
    }
   },
   "outputs": [
    {
     "name": "stdout",
     "output_type": "stream",
     "text": [
      "tensor([[[ 1,  2,  3,  4,  5,  6,  7,  8],\n",
      "         [10, 11, 12, 13, 14, 15, 16, 17]],\n",
      "\n",
      "        [[71, 72, 73, 74, 75, 76, 77, 78],\n",
      "         [81, 82, 83, 84, 85, 86, 87, 88]]])\n",
      "tensor([[[1, 3, 5, 7]]])\n",
      "torch.Size([4])\n"
     ]
    }
   ],
   "source": [
    "a = torch.tensor([[[1, 2, 3, 4, 5, 6, 7, 8],\n",
    "                   [10, 11, 12, 13, 14, 15, 16, 17]],\n",
    "                    \n",
    "                  [[71, 72, 73, 74, 75, 76, 77, 78],\n",
    "                   [81, 82, 83, 84, 85, 86, 87, 88]]])\n",
    "  \n",
    "# display actual  tensor\n",
    "print(a)\n",
    "\n",
    "print(a[ 0:1, 0:1, :8:2])\n",
    "b = a[ 0, 0, :8:2]\n",
    "print(b.shape)"
   ]
  },
  {
   "cell_type": "markdown",
   "id": "d4d82d36",
   "metadata": {
    "slideshow": {
     "slide_type": "fragment"
    }
   },
   "source": [
    "How do we get every other value in the first row displayed above?"
   ]
  },
  {
   "cell_type": "code",
   "execution_count": 3,
   "id": "ea2e9f42",
   "metadata": {
    "slideshow": {
     "slide_type": "fragment"
    }
   },
   "outputs": [
    {
     "name": "stdout",
     "output_type": "stream",
     "text": [
      "tensor([[[1, 3, 5, 7]]])\n"
     ]
    }
   ],
   "source": [
    "# access  all the tensors of 1 \n",
    "# dimension and get only 7 values \n",
    "# in that dimension\n",
    "print(a[0:1, 0:1, :8:2])"
   ]
  },
  {
   "cell_type": "code",
   "execution_count": 5,
   "id": "d50f9c48",
   "metadata": {
    "slideshow": {
     "slide_type": "slide"
    }
   },
   "outputs": [
    {
     "name": "stdout",
     "output_type": "stream",
     "text": [
      "tensor([[[ 1,  2,  3,  4,  5,  6,  7,  8],\n",
      "         [10, 11, 12, 13, 14, 15, 16, 17]],\n",
      "\n",
      "        [[71, 72, 73, 74, 75, 76, 77, 78],\n",
      "         [81, 82, 83, 84, 85, 86, 87, 88]]])\n"
     ]
    }
   ],
   "source": [
    "a = torch.tensor([[[1, 2, 3, 4, 5, 6, 7, 8],\n",
    "                   [10, 11, 12, 13, 14, 15, 16, 17]],\n",
    "                    \n",
    "                  [[71, 72, 73, 74, 75, 76, 77, 78],\n",
    "                   [81, 82, 83, 84, 85, 86, 87, 88]]])\n",
    "  \n",
    "# display actual  tensor\n",
    "print(a)"
   ]
  },
  {
   "cell_type": "markdown",
   "id": "9db46006",
   "metadata": {
    "slideshow": {
     "slide_type": "fragment"
    }
   },
   "source": [
    "What will the code below display (value and shape)? "
   ]
  },
  {
   "cell_type": "code",
   "execution_count": 62,
   "id": "24de209d",
   "metadata": {
    "slideshow": {
     "slide_type": "fragment"
    }
   },
   "outputs": [
    {
     "name": "stdout",
     "output_type": "stream",
     "text": [
      "tensor([[[ 1,  2,  3],\n",
      "         [10, 11, 12]]])\n"
     ]
    }
   ],
   "source": [
    "# access  all the tensors of all\n",
    "# dimensions and get only 3 values \n",
    "# in each dimension\n",
    "print(a[0:1, 0:2, :3])"
   ]
  },
  {
   "cell_type": "code",
   "execution_count": 9,
   "id": "a788fef3",
   "metadata": {
    "slideshow": {
     "slide_type": "slide"
    }
   },
   "outputs": [
    {
     "name": "stdout",
     "output_type": "stream",
     "text": [
      "tensor([[[ 1,  2,  3,  4,  5,  6,  7,  8],\n",
      "         [10, 11, 12, 13, 14, 15, 16, 17]],\n",
      "\n",
      "        [[71, 72, 73, 74, 75, 76, 77, 78],\n",
      "         [81, 82, 83, 84, 85, 86, 87, 88]]])\n"
     ]
    }
   ],
   "source": [
    "a = torch.tensor([[[1, 2, 3, 4, 5, 6, 7, 8],\n",
    "                   [10, 11, 12, 13, 14, 15, 16, 17]],\n",
    "                    \n",
    "                  [[71, 72, 73, 74, 75, 76, 77, 78],\n",
    "                   [81, 82, 83, 84, 85, 86, 87, 88]]])\n",
    "  \n",
    "# display actual  tensor\n",
    "print(a)"
   ]
  },
  {
   "cell_type": "markdown",
   "id": "28c2d233",
   "metadata": {
    "slideshow": {
     "slide_type": "fragment"
    }
   },
   "source": [
    "What will the code below display (value and shape)?"
   ]
  },
  {
   "cell_type": "code",
   "execution_count": 64,
   "id": "30367895",
   "metadata": {
    "slideshow": {
     "slide_type": "fragment"
    }
   },
   "outputs": [
    {
     "name": "stdout",
     "output_type": "stream",
     "text": [
      "tensor([[10, 11, 12, 13, 14, 15, 16, 17],\n",
      "        [81, 82, 83, 84, 85, 86, 87, 88]])\n",
      "torch.Size([2, 8])\n"
     ]
    }
   ],
   "source": [
    "# access 8 elements in 1 dimension\n",
    "# on all tensors\n",
    "print(a[0:2, 1, 0:8])\n",
    "b = a[0:2, 1, 0:8]\n",
    "print(b.shape)"
   ]
  },
  {
   "cell_type": "markdown",
   "id": "4ff61801",
   "metadata": {
    "slideshow": {
     "slide_type": "slide"
    }
   },
   "source": [
    "## Broadcasting "
   ]
  },
  {
   "cell_type": "markdown",
   "id": "7a5df4d5",
   "metadata": {
    "slideshow": {
     "slide_type": "fragment"
    }
   },
   "source": [
    "Quick diversion, what is the output of the following code: "
   ]
  },
  {
   "cell_type": "code",
   "execution_count": 68,
   "id": "2c3afb5e",
   "metadata": {
    "slideshow": {
     "slide_type": "fragment"
    }
   },
   "outputs": [
    {
     "name": "stdout",
     "output_type": "stream",
     "text": [
      "tensor([[0],\n",
      "        [1]])\n",
      "tensor([[0, 1]])\n",
      "tensor([[0, 1],\n",
      "        [1, 2]])\n"
     ]
    }
   ],
   "source": [
    "import torch\n",
    "\n",
    "a = torch.arange(2).view(-1,1)\n",
    "b = torch.arange(2).view(1,-1)\n",
    "\n",
    "print(a)\n",
    "print(b)\n",
    "\n",
    "print(a+b)"
   ]
  },
  {
   "cell_type": "code",
   "execution_count": 69,
   "id": "1476c3af",
   "metadata": {
    "slideshow": {
     "slide_type": "fragment"
    }
   },
   "outputs": [
    {
     "name": "stdout",
     "output_type": "stream",
     "text": [
      "[[0 1]\n",
      " [1 2]]\n"
     ]
    }
   ],
   "source": [
    "import numpy as np\n",
    "\n",
    "a = np.array([0, 1])\n",
    "b = np.array([[0], [1]])\n",
    "\n",
    "print(a+b)"
   ]
  },
  {
   "cell_type": "markdown",
   "id": "76068d4e",
   "metadata": {
    "slideshow": {
     "slide_type": "fragment"
    }
   },
   "source": [
    "While everyone is familiar with ```numpy```(```torch```) slicing, broadcasting it less used. So I thought it would be worthwhile to brush upon it quickly. "
   ]
  },
  {
   "cell_type": "markdown",
   "id": "903b56d5",
   "metadata": {
    "slideshow": {
     "slide_type": "slide"
    }
   },
   "source": [
    "When adding an array and a scaler, we know we want to add the element to every element in the array. "
   ]
  },
  {
   "cell_type": "code",
   "execution_count": 70,
   "id": "7ca51bd2",
   "metadata": {
    "slideshow": {
     "slide_type": "fragment"
    }
   },
   "outputs": [
    {
     "name": "stdout",
     "output_type": "stream",
     "text": [
      "[2 3 4 5]\n"
     ]
    }
   ],
   "source": [
    "import numpy as np\n",
    "\n",
    "a = np.array([1,2,3,4])\n",
    "b = a+1\n",
    "\n",
    "print(b)"
   ]
  },
  {
   "cell_type": "markdown",
   "id": "ec0704be",
   "metadata": {
    "slideshow": {
     "slide_type": "fragment"
    }
   },
   "source": [
    "Another way to look at this is that the dimension of the scalar is being stretched: \n",
    "\n",
    "<img align=\"center\" src=\"img/broadcasting_scalar_vec.png\" width=\"1200px\" style=\"padding:30px;border:thin solid white;\"> \n"
   ]
  },
  {
   "cell_type": "markdown",
   "id": "4c9e4700",
   "metadata": {
    "slideshow": {
     "slide_type": "slide"
    }
   },
   "source": [
    "Works with matrix to matrix operations too: "
   ]
  },
  {
   "cell_type": "code",
   "execution_count": 17,
   "id": "43177350",
   "metadata": {
    "slideshow": {
     "slide_type": "fragment"
    }
   },
   "outputs": [
    {
     "name": "stdout",
     "output_type": "stream",
     "text": [
      "tensor([[ 0,  1,  2],\n",
      "        [ 3,  4,  5],\n",
      "        [ 6,  7,  8],\n",
      "        [ 9, 10, 11]])\n",
      "tensor([[0, 1, 2]])\n",
      "tensor([[ 0,  1,  4],\n",
      "        [ 0,  4, 10],\n",
      "        [ 0,  7, 16],\n",
      "        [ 0, 10, 22]])\n"
     ]
    }
   ],
   "source": [
    "import torch\n",
    "\n",
    "a = torch.arange(12).view(4,3)\n",
    "b = torch.arange(3).view(1,3)\n",
    "\n",
    "print(a)\n",
    "print(b)\n",
    "print(a*b)"
   ]
  },
  {
   "cell_type": "markdown",
   "id": "30bf37f1",
   "metadata": {
    "slideshow": {
     "slide_type": "fragment"
    }
   },
   "source": [
    "<img align=\"center\" src=\"img/broadcasting_matrix_matrix.png\" width=\"600px\" style=\"padding:30px;border:thin solid white;\"> \n"
   ]
  },
  {
   "cell_type": "markdown",
   "id": "aa5e4c8e",
   "metadata": {
    "slideshow": {
     "slide_type": "slide"
    }
   },
   "source": [
    "General broadcasting rule:\n",
    "\n",
    "When operating two arrays, NumPy compares their shapes, element-wise from right to left and tries to find two dimensions that are:  \n",
    "- equal\n",
    "- one of them is size 1\n",
    "Then it stretches those dimenisons to make the array match. \n",
    "\n",
    "Two arrays do not need to have to same number of dimenisons, but the resulting array will have the number of dimenisons equal to the input array with the greatest number of dimensions. \n"
   ]
  },
  {
   "cell_type": "markdown",
   "id": "6ea2187b",
   "metadata": {
    "slideshow": {
     "slide_type": "fragment"
    }
   },
   "source": [
    "What does the following code snippet produce: "
   ]
  },
  {
   "cell_type": "code",
   "execution_count": 71,
   "id": "424777c1",
   "metadata": {
    "slideshow": {
     "slide_type": "fragment"
    }
   },
   "outputs": [
    {
     "name": "stdout",
     "output_type": "stream",
     "text": [
      "tensor([[0, 1, 2, 3],\n",
      "        [4, 5, 6, 7]])\n",
      "tensor([[0, 1, 2]])\n"
     ]
    },
    {
     "ename": "RuntimeError",
     "evalue": "The size of tensor a (4) must match the size of tensor b (3) at non-singleton dimension 1",
     "output_type": "error",
     "traceback": [
      "\u001b[0;31m---------------------------------------------------------------------------\u001b[0m",
      "\u001b[0;31mRuntimeError\u001b[0m                              Traceback (most recent call last)",
      "Cell \u001b[0;32mIn[71], line 8\u001b[0m\n\u001b[1;32m      6\u001b[0m \u001b[38;5;28mprint\u001b[39m(a)\n\u001b[1;32m      7\u001b[0m \u001b[38;5;28mprint\u001b[39m(b)\n\u001b[0;32m----> 8\u001b[0m \u001b[38;5;28mprint\u001b[39m(a\u001b[38;5;241m*\u001b[39mb)\n",
      "\u001b[0;31mRuntimeError\u001b[0m: The size of tensor a (4) must match the size of tensor b (3) at non-singleton dimension 1"
     ]
    }
   ],
   "source": [
    "import torch\n",
    "\n",
    "a = torch.tensor([[0,1,2,3], [4,5,6,7]])\n",
    "b = torch.tensor([[0,1,2]])\n",
    "\n",
    "print(a)\n",
    "print(b)\n",
    "print(a*b)"
   ]
  },
  {
   "cell_type": "markdown",
   "id": "2e2fafc1",
   "metadata": {
    "slideshow": {
     "slide_type": "slide"
    }
   },
   "source": [
    "Broadasting provides a useful way fo taking the outer-product of any set of arrays"
   ]
  },
  {
   "cell_type": "code",
   "execution_count": 76,
   "id": "5ec4b6a8",
   "metadata": {
    "collapsed": true,
    "slideshow": {
     "slide_type": "fragment"
    }
   },
   "outputs": [
    {
     "name": "stdout",
     "output_type": "stream",
     "text": [
      "torch.Size([10, 10, 1, 1])\n",
      "torch.Size([10, 10, 10, 1])\n",
      "tensor([[[[   0,    1,    2,  ...,    7,    8,    9],\n",
      "          [  10,   11,   12,  ...,   17,   18,   19],\n",
      "          [  20,   21,   22,  ...,   27,   28,   29],\n",
      "          ...,\n",
      "          [  70,   71,   72,  ...,   77,   78,   79],\n",
      "          [  80,   81,   82,  ...,   87,   88,   89],\n",
      "          [  90,   91,   92,  ...,   97,   98,   99]],\n",
      "\n",
      "         [[ 100,  101,  102,  ...,  107,  108,  109],\n",
      "          [ 110,  111,  112,  ...,  117,  118,  119],\n",
      "          [ 120,  121,  122,  ...,  127,  128,  129],\n",
      "          ...,\n",
      "          [ 170,  171,  172,  ...,  177,  178,  179],\n",
      "          [ 180,  181,  182,  ...,  187,  188,  189],\n",
      "          [ 190,  191,  192,  ...,  197,  198,  199]],\n",
      "\n",
      "         [[ 200,  201,  202,  ...,  207,  208,  209],\n",
      "          [ 210,  211,  212,  ...,  217,  218,  219],\n",
      "          [ 220,  221,  222,  ...,  227,  228,  229],\n",
      "          ...,\n",
      "          [ 270,  271,  272,  ...,  277,  278,  279],\n",
      "          [ 280,  281,  282,  ...,  287,  288,  289],\n",
      "          [ 290,  291,  292,  ...,  297,  298,  299]],\n",
      "\n",
      "         ...,\n",
      "\n",
      "         [[ 700,  701,  702,  ...,  707,  708,  709],\n",
      "          [ 710,  711,  712,  ...,  717,  718,  719],\n",
      "          [ 720,  721,  722,  ...,  727,  728,  729],\n",
      "          ...,\n",
      "          [ 770,  771,  772,  ...,  777,  778,  779],\n",
      "          [ 780,  781,  782,  ...,  787,  788,  789],\n",
      "          [ 790,  791,  792,  ...,  797,  798,  799]],\n",
      "\n",
      "         [[ 800,  801,  802,  ...,  807,  808,  809],\n",
      "          [ 810,  811,  812,  ...,  817,  818,  819],\n",
      "          [ 820,  821,  822,  ...,  827,  828,  829],\n",
      "          ...,\n",
      "          [ 870,  871,  872,  ...,  877,  878,  879],\n",
      "          [ 880,  881,  882,  ...,  887,  888,  889],\n",
      "          [ 890,  891,  892,  ...,  897,  898,  899]],\n",
      "\n",
      "         [[ 900,  901,  902,  ...,  907,  908,  909],\n",
      "          [ 910,  911,  912,  ...,  917,  918,  919],\n",
      "          [ 920,  921,  922,  ...,  927,  928,  929],\n",
      "          ...,\n",
      "          [ 970,  971,  972,  ...,  977,  978,  979],\n",
      "          [ 980,  981,  982,  ...,  987,  988,  989],\n",
      "          [ 990,  991,  992,  ...,  997,  998,  999]]],\n",
      "\n",
      "\n",
      "        [[[1000, 1001, 1002,  ..., 1007, 1008, 1009],\n",
      "          [1010, 1011, 1012,  ..., 1017, 1018, 1019],\n",
      "          [1020, 1021, 1022,  ..., 1027, 1028, 1029],\n",
      "          ...,\n",
      "          [1070, 1071, 1072,  ..., 1077, 1078, 1079],\n",
      "          [1080, 1081, 1082,  ..., 1087, 1088, 1089],\n",
      "          [1090, 1091, 1092,  ..., 1097, 1098, 1099]],\n",
      "\n",
      "         [[1100, 1101, 1102,  ..., 1107, 1108, 1109],\n",
      "          [1110, 1111, 1112,  ..., 1117, 1118, 1119],\n",
      "          [1120, 1121, 1122,  ..., 1127, 1128, 1129],\n",
      "          ...,\n",
      "          [1170, 1171, 1172,  ..., 1177, 1178, 1179],\n",
      "          [1180, 1181, 1182,  ..., 1187, 1188, 1189],\n",
      "          [1190, 1191, 1192,  ..., 1197, 1198, 1199]],\n",
      "\n",
      "         [[1200, 1201, 1202,  ..., 1207, 1208, 1209],\n",
      "          [1210, 1211, 1212,  ..., 1217, 1218, 1219],\n",
      "          [1220, 1221, 1222,  ..., 1227, 1228, 1229],\n",
      "          ...,\n",
      "          [1270, 1271, 1272,  ..., 1277, 1278, 1279],\n",
      "          [1280, 1281, 1282,  ..., 1287, 1288, 1289],\n",
      "          [1290, 1291, 1292,  ..., 1297, 1298, 1299]],\n",
      "\n",
      "         ...,\n",
      "\n",
      "         [[1700, 1701, 1702,  ..., 1707, 1708, 1709],\n",
      "          [1710, 1711, 1712,  ..., 1717, 1718, 1719],\n",
      "          [1720, 1721, 1722,  ..., 1727, 1728, 1729],\n",
      "          ...,\n",
      "          [1770, 1771, 1772,  ..., 1777, 1778, 1779],\n",
      "          [1780, 1781, 1782,  ..., 1787, 1788, 1789],\n",
      "          [1790, 1791, 1792,  ..., 1797, 1798, 1799]],\n",
      "\n",
      "         [[1800, 1801, 1802,  ..., 1807, 1808, 1809],\n",
      "          [1810, 1811, 1812,  ..., 1817, 1818, 1819],\n",
      "          [1820, 1821, 1822,  ..., 1827, 1828, 1829],\n",
      "          ...,\n",
      "          [1870, 1871, 1872,  ..., 1877, 1878, 1879],\n",
      "          [1880, 1881, 1882,  ..., 1887, 1888, 1889],\n",
      "          [1890, 1891, 1892,  ..., 1897, 1898, 1899]],\n",
      "\n",
      "         [[1900, 1901, 1902,  ..., 1907, 1908, 1909],\n",
      "          [1910, 1911, 1912,  ..., 1917, 1918, 1919],\n",
      "          [1920, 1921, 1922,  ..., 1927, 1928, 1929],\n",
      "          ...,\n",
      "          [1970, 1971, 1972,  ..., 1977, 1978, 1979],\n",
      "          [1980, 1981, 1982,  ..., 1987, 1988, 1989],\n",
      "          [1990, 1991, 1992,  ..., 1997, 1998, 1999]]],\n",
      "\n",
      "\n",
      "        [[[2000, 2001, 2002,  ..., 2007, 2008, 2009],\n",
      "          [2010, 2011, 2012,  ..., 2017, 2018, 2019],\n",
      "          [2020, 2021, 2022,  ..., 2027, 2028, 2029],\n",
      "          ...,\n",
      "          [2070, 2071, 2072,  ..., 2077, 2078, 2079],\n",
      "          [2080, 2081, 2082,  ..., 2087, 2088, 2089],\n",
      "          [2090, 2091, 2092,  ..., 2097, 2098, 2099]],\n",
      "\n",
      "         [[2100, 2101, 2102,  ..., 2107, 2108, 2109],\n",
      "          [2110, 2111, 2112,  ..., 2117, 2118, 2119],\n",
      "          [2120, 2121, 2122,  ..., 2127, 2128, 2129],\n",
      "          ...,\n",
      "          [2170, 2171, 2172,  ..., 2177, 2178, 2179],\n",
      "          [2180, 2181, 2182,  ..., 2187, 2188, 2189],\n",
      "          [2190, 2191, 2192,  ..., 2197, 2198, 2199]],\n",
      "\n",
      "         [[2200, 2201, 2202,  ..., 2207, 2208, 2209],\n",
      "          [2210, 2211, 2212,  ..., 2217, 2218, 2219],\n",
      "          [2220, 2221, 2222,  ..., 2227, 2228, 2229],\n",
      "          ...,\n",
      "          [2270, 2271, 2272,  ..., 2277, 2278, 2279],\n",
      "          [2280, 2281, 2282,  ..., 2287, 2288, 2289],\n",
      "          [2290, 2291, 2292,  ..., 2297, 2298, 2299]],\n",
      "\n",
      "         ...,\n",
      "\n",
      "         [[2700, 2701, 2702,  ..., 2707, 2708, 2709],\n",
      "          [2710, 2711, 2712,  ..., 2717, 2718, 2719],\n",
      "          [2720, 2721, 2722,  ..., 2727, 2728, 2729],\n",
      "          ...,\n",
      "          [2770, 2771, 2772,  ..., 2777, 2778, 2779],\n",
      "          [2780, 2781, 2782,  ..., 2787, 2788, 2789],\n",
      "          [2790, 2791, 2792,  ..., 2797, 2798, 2799]],\n",
      "\n",
      "         [[2800, 2801, 2802,  ..., 2807, 2808, 2809],\n",
      "          [2810, 2811, 2812,  ..., 2817, 2818, 2819],\n",
      "          [2820, 2821, 2822,  ..., 2827, 2828, 2829],\n",
      "          ...,\n",
      "          [2870, 2871, 2872,  ..., 2877, 2878, 2879],\n",
      "          [2880, 2881, 2882,  ..., 2887, 2888, 2889],\n",
      "          [2890, 2891, 2892,  ..., 2897, 2898, 2899]],\n",
      "\n",
      "         [[2900, 2901, 2902,  ..., 2907, 2908, 2909],\n",
      "          [2910, 2911, 2912,  ..., 2917, 2918, 2919],\n",
      "          [2920, 2921, 2922,  ..., 2927, 2928, 2929],\n",
      "          ...,\n",
      "          [2970, 2971, 2972,  ..., 2977, 2978, 2979],\n",
      "          [2980, 2981, 2982,  ..., 2987, 2988, 2989],\n",
      "          [2990, 2991, 2992,  ..., 2997, 2998, 2999]]],\n",
      "\n",
      "\n",
      "        ...,\n",
      "\n",
      "\n",
      "        [[[7000, 7001, 7002,  ..., 7007, 7008, 7009],\n",
      "          [7010, 7011, 7012,  ..., 7017, 7018, 7019],\n",
      "          [7020, 7021, 7022,  ..., 7027, 7028, 7029],\n",
      "          ...,\n",
      "          [7070, 7071, 7072,  ..., 7077, 7078, 7079],\n",
      "          [7080, 7081, 7082,  ..., 7087, 7088, 7089],\n",
      "          [7090, 7091, 7092,  ..., 7097, 7098, 7099]],\n",
      "\n",
      "         [[7100, 7101, 7102,  ..., 7107, 7108, 7109],\n",
      "          [7110, 7111, 7112,  ..., 7117, 7118, 7119],\n",
      "          [7120, 7121, 7122,  ..., 7127, 7128, 7129],\n",
      "          ...,\n",
      "          [7170, 7171, 7172,  ..., 7177, 7178, 7179],\n",
      "          [7180, 7181, 7182,  ..., 7187, 7188, 7189],\n",
      "          [7190, 7191, 7192,  ..., 7197, 7198, 7199]],\n",
      "\n",
      "         [[7200, 7201, 7202,  ..., 7207, 7208, 7209],\n",
      "          [7210, 7211, 7212,  ..., 7217, 7218, 7219],\n",
      "          [7220, 7221, 7222,  ..., 7227, 7228, 7229],\n",
      "          ...,\n",
      "          [7270, 7271, 7272,  ..., 7277, 7278, 7279],\n",
      "          [7280, 7281, 7282,  ..., 7287, 7288, 7289],\n",
      "          [7290, 7291, 7292,  ..., 7297, 7298, 7299]],\n",
      "\n",
      "         ...,\n",
      "\n",
      "         [[7700, 7701, 7702,  ..., 7707, 7708, 7709],\n",
      "          [7710, 7711, 7712,  ..., 7717, 7718, 7719],\n",
      "          [7720, 7721, 7722,  ..., 7727, 7728, 7729],\n",
      "          ...,\n",
      "          [7770, 7771, 7772,  ..., 7777, 7778, 7779],\n",
      "          [7780, 7781, 7782,  ..., 7787, 7788, 7789],\n",
      "          [7790, 7791, 7792,  ..., 7797, 7798, 7799]],\n",
      "\n",
      "         [[7800, 7801, 7802,  ..., 7807, 7808, 7809],\n",
      "          [7810, 7811, 7812,  ..., 7817, 7818, 7819],\n",
      "          [7820, 7821, 7822,  ..., 7827, 7828, 7829],\n",
      "          ...,\n",
      "          [7870, 7871, 7872,  ..., 7877, 7878, 7879],\n",
      "          [7880, 7881, 7882,  ..., 7887, 7888, 7889],\n",
      "          [7890, 7891, 7892,  ..., 7897, 7898, 7899]],\n",
      "\n",
      "         [[7900, 7901, 7902,  ..., 7907, 7908, 7909],\n",
      "          [7910, 7911, 7912,  ..., 7917, 7918, 7919],\n",
      "          [7920, 7921, 7922,  ..., 7927, 7928, 7929],\n",
      "          ...,\n",
      "          [7970, 7971, 7972,  ..., 7977, 7978, 7979],\n",
      "          [7980, 7981, 7982,  ..., 7987, 7988, 7989],\n",
      "          [7990, 7991, 7992,  ..., 7997, 7998, 7999]]],\n",
      "\n",
      "\n",
      "        [[[8000, 8001, 8002,  ..., 8007, 8008, 8009],\n",
      "          [8010, 8011, 8012,  ..., 8017, 8018, 8019],\n",
      "          [8020, 8021, 8022,  ..., 8027, 8028, 8029],\n",
      "          ...,\n",
      "          [8070, 8071, 8072,  ..., 8077, 8078, 8079],\n",
      "          [8080, 8081, 8082,  ..., 8087, 8088, 8089],\n",
      "          [8090, 8091, 8092,  ..., 8097, 8098, 8099]],\n",
      "\n",
      "         [[8100, 8101, 8102,  ..., 8107, 8108, 8109],\n",
      "          [8110, 8111, 8112,  ..., 8117, 8118, 8119],\n",
      "          [8120, 8121, 8122,  ..., 8127, 8128, 8129],\n",
      "          ...,\n",
      "          [8170, 8171, 8172,  ..., 8177, 8178, 8179],\n",
      "          [8180, 8181, 8182,  ..., 8187, 8188, 8189],\n",
      "          [8190, 8191, 8192,  ..., 8197, 8198, 8199]],\n",
      "\n",
      "         [[8200, 8201, 8202,  ..., 8207, 8208, 8209],\n",
      "          [8210, 8211, 8212,  ..., 8217, 8218, 8219],\n",
      "          [8220, 8221, 8222,  ..., 8227, 8228, 8229],\n",
      "          ...,\n",
      "          [8270, 8271, 8272,  ..., 8277, 8278, 8279],\n",
      "          [8280, 8281, 8282,  ..., 8287, 8288, 8289],\n",
      "          [8290, 8291, 8292,  ..., 8297, 8298, 8299]],\n",
      "\n",
      "         ...,\n",
      "\n",
      "         [[8700, 8701, 8702,  ..., 8707, 8708, 8709],\n",
      "          [8710, 8711, 8712,  ..., 8717, 8718, 8719],\n",
      "          [8720, 8721, 8722,  ..., 8727, 8728, 8729],\n",
      "          ...,\n",
      "          [8770, 8771, 8772,  ..., 8777, 8778, 8779],\n",
      "          [8780, 8781, 8782,  ..., 8787, 8788, 8789],\n",
      "          [8790, 8791, 8792,  ..., 8797, 8798, 8799]],\n",
      "\n",
      "         [[8800, 8801, 8802,  ..., 8807, 8808, 8809],\n",
      "          [8810, 8811, 8812,  ..., 8817, 8818, 8819],\n",
      "          [8820, 8821, 8822,  ..., 8827, 8828, 8829],\n",
      "          ...,\n",
      "          [8870, 8871, 8872,  ..., 8877, 8878, 8879],\n",
      "          [8880, 8881, 8882,  ..., 8887, 8888, 8889],\n",
      "          [8890, 8891, 8892,  ..., 8897, 8898, 8899]],\n",
      "\n",
      "         [[8900, 8901, 8902,  ..., 8907, 8908, 8909],\n",
      "          [8910, 8911, 8912,  ..., 8917, 8918, 8919],\n",
      "          [8920, 8921, 8922,  ..., 8927, 8928, 8929],\n",
      "          ...,\n",
      "          [8970, 8971, 8972,  ..., 8977, 8978, 8979],\n",
      "          [8980, 8981, 8982,  ..., 8987, 8988, 8989],\n",
      "          [8990, 8991, 8992,  ..., 8997, 8998, 8999]]],\n",
      "\n",
      "\n",
      "        [[[9000, 9001, 9002,  ..., 9007, 9008, 9009],\n",
      "          [9010, 9011, 9012,  ..., 9017, 9018, 9019],\n",
      "          [9020, 9021, 9022,  ..., 9027, 9028, 9029],\n",
      "          ...,\n",
      "          [9070, 9071, 9072,  ..., 9077, 9078, 9079],\n",
      "          [9080, 9081, 9082,  ..., 9087, 9088, 9089],\n",
      "          [9090, 9091, 9092,  ..., 9097, 9098, 9099]],\n",
      "\n",
      "         [[9100, 9101, 9102,  ..., 9107, 9108, 9109],\n",
      "          [9110, 9111, 9112,  ..., 9117, 9118, 9119],\n",
      "          [9120, 9121, 9122,  ..., 9127, 9128, 9129],\n",
      "          ...,\n",
      "          [9170, 9171, 9172,  ..., 9177, 9178, 9179],\n",
      "          [9180, 9181, 9182,  ..., 9187, 9188, 9189],\n",
      "          [9190, 9191, 9192,  ..., 9197, 9198, 9199]],\n",
      "\n",
      "         [[9200, 9201, 9202,  ..., 9207, 9208, 9209],\n",
      "          [9210, 9211, 9212,  ..., 9217, 9218, 9219],\n",
      "          [9220, 9221, 9222,  ..., 9227, 9228, 9229],\n",
      "          ...,\n",
      "          [9270, 9271, 9272,  ..., 9277, 9278, 9279],\n",
      "          [9280, 9281, 9282,  ..., 9287, 9288, 9289],\n",
      "          [9290, 9291, 9292,  ..., 9297, 9298, 9299]],\n",
      "\n",
      "         ...,\n",
      "\n",
      "         [[9700, 9701, 9702,  ..., 9707, 9708, 9709],\n",
      "          [9710, 9711, 9712,  ..., 9717, 9718, 9719],\n",
      "          [9720, 9721, 9722,  ..., 9727, 9728, 9729],\n",
      "          ...,\n",
      "          [9770, 9771, 9772,  ..., 9777, 9778, 9779],\n",
      "          [9780, 9781, 9782,  ..., 9787, 9788, 9789],\n",
      "          [9790, 9791, 9792,  ..., 9797, 9798, 9799]],\n",
      "\n",
      "         [[9800, 9801, 9802,  ..., 9807, 9808, 9809],\n",
      "          [9810, 9811, 9812,  ..., 9817, 9818, 9819],\n",
      "          [9820, 9821, 9822,  ..., 9827, 9828, 9829],\n",
      "          ...,\n",
      "          [9870, 9871, 9872,  ..., 9877, 9878, 9879],\n",
      "          [9880, 9881, 9882,  ..., 9887, 9888, 9889],\n",
      "          [9890, 9891, 9892,  ..., 9897, 9898, 9899]],\n",
      "\n",
      "         [[9900, 9901, 9902,  ..., 9907, 9908, 9909],\n",
      "          [9910, 9911, 9912,  ..., 9917, 9918, 9919],\n",
      "          [9920, 9921, 9922,  ..., 9927, 9928, 9929],\n",
      "          ...,\n",
      "          [9970, 9971, 9972,  ..., 9977, 9978, 9979],\n",
      "          [9980, 9981, 9982,  ..., 9987, 9988, 9989],\n",
      "          [9990, 9991, 9992,  ..., 9997, 9998, 9999]]]])\n"
     ]
    }
   ],
   "source": [
    "import torch\n",
    "\n",
    "# Define the size of each dimension\n",
    "size = 10\n",
    "\n",
    "# Create the 4D array with shape (10, 10, 10, 10)\n",
    "# Generate indices from 0 to 9 in each dimension\n",
    "a = torch.arange(size).view(-1, 1, 1, 1)  # Shape (10, 1, 1, 1)\n",
    "b = torch.arange(size).view(1, -1, 1, 1)  # Shape (1, 10, 1, 1)\n",
    "c = torch.arange(size).view(1, 1, -1, 1)  # Shape (1, 1, 10, 1)\n",
    "d = torch.arange(size).view(1, 1, 1, -1)  # Shape (1, 1, 1, 10)\n",
    "\n",
    "# Compute the 4D array where each index corresponds to the concatenation of a, b, c, d\n",
    "z = a * 1000 + b * 100 + c * 10 + d\n",
    "\n",
    "x = a+b\n",
    "print(x.shape)\n",
    "y = x+c\n",
    "print(y.shape)\n",
    "#Print the resulting 4D tensor\n",
    "print(z)"
   ]
  },
  {
   "cell_type": "markdown",
   "id": "b17aa636",
   "metadata": {
    "slideshow": {
     "slide_type": "slide"
    }
   },
   "source": [
    "## Linear equations"
   ]
  },
  {
   "cell_type": "markdown",
   "id": "aa56ecc4",
   "metadata": {
    "slideshow": {
     "slide_type": "fragment"
    }
   },
   "source": [
    "### What is a linear equation?\n",
    "* Wikipedia defines a system of linear equations as:<br>\n",
    "\n",
    ">In mathematics, a system of linear equations (or linear system) is a collection of two or more linear equations involving the same set of variables.<br>"
   ]
  },
  {
   "cell_type": "markdown",
   "id": "6ea6b250",
   "metadata": {
    "slideshow": {
     "slide_type": "slide"
    }
   },
   "source": [
    "## Representing Systems of Linear Equations using Matrices\n",
    "* A system of linear equations can be represented in matrix form using a coefficient matrix, a variable matrix, and a constant matrix. <Br>\n",
    "* **General form of a linear system:** A linear system has $n$ unknown and $m$ equations: <Br>\n",
    "    $\\begin{array}{c}\n",
    "a_{11}x_{1}+a_{12}x_{2}+\\ldots+a_{1n}x_{n}=b_{1}\\\\\n",
    "a_{21}x_{1}+a_{22}x_{2}+\\ldots+a_{2n}x_{n}=b_{2}\\\\\n",
    "\\vdots\\\\\n",
    "a_{m1}x_{1}+a_{m2}x_{2}+\\ldots+a_{mn}x_{n}=b_{m}\n",
    "\\end{array}$ <Br>\n",
    "Where $x_1, x_2,..., x_n$ are the unknowns, $a_11, a_12, ..., a_mn$ are the coefficients of the system, and $b_1, b_2,..., b_m$ are the constant terms.\n",
    "* **Vector equation:** One helpful view is that each unknown is a weight for a column vector in a linear combination\n",
    "$x_{1}\\left[\\begin{array}{c}\n",
    "a_{11}\\\\\n",
    "a_{21}\\\\\n",
    "\\vdots\\\\\n",
    "a_{m1}\n",
    "\\end{array}\\right]+x_{2}\\left[\\begin{array}{c}\n",
    "a_{12}\\\\\n",
    "a_{22}\\\\\n",
    "\\vdots\\\\\n",
    "a_{m2}\n",
    "\\end{array}\\right]+\\cdots+x_{n}\\left[\\begin{array}{c}\n",
    "a_{1n}\\\\\n",
    "a_{2n}\\\\\n",
    "\\vdots\\\\\n",
    "a_{mn}\n",
    "\\end{array}\\right]=\\left[\\begin{array}{c}\n",
    "b_{1}\\\\\n",
    "b_{2}\\\\\n",
    "\\vdots\\\\\n",
    "b_{m}\n",
    "\\end{array}\\right]$"
   ]
  },
  {
   "cell_type": "markdown",
   "id": "54c72458",
   "metadata": {
    "slideshow": {
     "slide_type": "slide"
    }
   },
   "source": [
    "## Representing Systems of Linear Equations using Matrices\n",
    "* **Matrix equation:** The vector equation is equivalent to a matrix equation of the form. \n",
    "\n",
    "    $Ax=\\left[\\begin{matrix}a_{11} & a_{12} & \\ldots & a_{1n}\\\\\n",
    "a_{21} & a_{22} & \\vdots & a_{2n}\\\\\n",
    "\\vdots & \\vdots & \\ddots & \\vdots\\\\\n",
    "a_{m1} & a_{m2} & \\ldots & a_{mn}\n",
    "\\end{matrix}\\right]\\left[\\begin{matrix}x_{1}\\\\\n",
    "x_{2}\\\\\n",
    "\\vdots\\\\\n",
    "x_{n}\n",
    "\\end{matrix}\\right]=\\left[\\begin{matrix}a_{11}x_{1}+a_{12}x_{2}+\\ldots+a_{1n}x_{n}\\\\\n",
    "a_{21}x_{1}+a_{22}x_{2}+\\ldots+a_{2n}x_{n}\\\\\n",
    "\\ldots\\\\\n",
    "a_{m1}x_{1}+a_{m2}x_{2}+\\ldots+a_{mn}x_{n}\n",
    "\\end{matrix}\\right]=x_{1}\\left[\\begin{array}{c}\n",
    "a_{11}\\\\\n",
    "a_{21}\\\\\n",
    "\\vdots\\\\\n",
    "a_{m1}\n",
    "\\end{array}\\right]+x_{2}\\left[\\begin{array}{c}\n",
    "a_{12}\\\\\n",
    "a_{22}\\\\\n",
    "\\vdots\\\\\n",
    "a_{m2}\n",
    "\\end{array}\\right]+\\cdots+x_{n}\\left[\\begin{array}{c}\n",
    "a_{1n}\\\\\n",
    "a_{2n}\\\\\n",
    "\\vdots\\\\\n",
    "a_{mn}\n",
    "\\end{array}\\right]=\\left[\\begin{matrix}b_{1}\\\\\n",
    "b_{2}\\\\\n",
    "\\vdots\\\\\n",
    "b_{n}\n",
    "\\end{matrix}\\right]=B$ <br>\n",
    "\n",
    "   Where  $A=\\left[\\begin{matrix}a_{11} & a_{12} & \\ldots & a_{1n}\\\\\n",
    "a_{21} & a_{22} & \\vdots & a_{2n}\\\\\n",
    "\\vdots & \\vdots & \\ddots & \\vdots\\\\\n",
    "a_{m1} & a_{m2} & \\ldots & a_{mn}\n",
    "\\end{matrix}\\right],x=\\left[\\begin{matrix}x_{1}\\\\\n",
    "x_{2}\\\\\n",
    "\\vdots\\\\\n",
    "x_{n}\n",
    "\\end{matrix}\\right],b=\\left[\\begin{matrix}b_{1}\\\\\n",
    "b_{2}\\\\\n",
    "\\vdots\\\\\n",
    "b_{n}\n",
    "\\end{matrix}\\right]$\n",
    "\n",
    "    Then, the linear equations can be written this way:<Br>\n",
    "    $Ax=B$ <Br>\n",
    "    to solve for the vector x, we must take the inverse of matrix A and the equation is written as follows:    <Br>\n",
    "    $x=A^{-1}B$ <Br>   "
   ]
  },
  {
   "cell_type": "markdown",
   "id": "c70de0ab",
   "metadata": {
    "slideshow": {
     "slide_type": "slide"
    }
   },
   "source": [
    "## Solving linear equations using matrices \n",
    "* Let's start from an example:<br>\n",
    "    $2x_1+x_2+x_3=4$<br>\n",
    "    $x_1+3x_2+2x_3=5$<br>\n",
    "    $x_1=6$<br>\n",
    "    Now, we can formalize the problem with matrices: <Br>\n",
    "    $A=\\left[\\begin{array}{ccc}\n",
    "    2 & 1 & 1\\\\\n",
    "    1 & 3 & 2\\\\\n",
    "    1 & 0 & 0\n",
    "    \\end{array}\\right],x=\\left[\\begin{array}{c}\n",
    "    x_1\\\\\n",
    "    x_2\\\\\n",
    "    x_3\n",
    "    \\end{array}\\right],B=\\left[\\begin{array}{c}\n",
    "    4\\\\\n",
    "    5\\\\\n",
    "    6\n",
    "    \\end{array}\\right]$ <Br>\n",
    "    Then, the linear equations can be written this way: <Br>\n",
    "    $Ax=B$ <Br>\n",
    "    to solve for the vector x, we must take the inverse of matrix A and the equation is written as follows:    <Br>\n",
    "    $x=A^{-1}B$ <Br>    "
   ]
  },
  {
   "cell_type": "markdown",
   "id": "ffa8e686",
   "metadata": {
    "slideshow": {
     "slide_type": "slide"
    }
   },
   "source": [
    "## Solving linear equations using matrices (continued) \n",
    "* Lets solve the example in previous slide:\n",
    "\n",
    "Since, $x=A^{-1}B$\n",
    "\n",
    "|First find $A^{-1}$ : | Then we need to multiply it by B | and get the following solution |\n",
    "| ---- | ---- | ---- |\n",
    "|$$ A^{-1}=\\left[\\begin{array}{ccc} 2 & 1 & 1\\\\ 1 & 3 & 2\\\\ 1 & 0 & 0 \\end{array}\\right]^{-1}  = \\left[\\begin{array}{ccc} 0 & 0 & 1\\\\ -2 & 1 & 3\\\\ 3 & -1 & -5 \\end{array}\\right] $$ | $$\\left[\\begin{array}{ccc} 0 & 0 & 1\\\\ -2 & 1 & 3\\\\ 3 & -1 & -5 \\end{array}\\right] \\cdot \\left[\\begin{array}{ccc} 4 \\\\ 5 \\\\ 6 \\end{array}\\right] $$ |$$=\\left[\\begin{array}{ccc} 6 \\\\ 15 \\\\ -23 \\end{array}\\right]$$ | "
   ]
  },
  {
   "cell_type": "code",
   "execution_count": 77,
   "id": "b8277bc5",
   "metadata": {
    "slideshow": {
     "slide_type": "fragment"
    }
   },
   "outputs": [
    {
     "name": "stdout",
     "output_type": "stream",
     "text": [
      "tensor([  6.0000,  15.0000, -23.0000], dtype=torch.float64)\n"
     ]
    }
   ],
   "source": [
    "import torch\n",
    "\n",
    "A = torch.tensor([[2,1,1], [1, 3, 2], [1, 0, 0]], dtype=float)\n",
    "b = torch.tensor([4, 5, 6], dtype=float)\n",
    "\n",
    "A_i = A.inverse()\n",
    "\n",
    "print(A_i@b)"
   ]
  },
  {
   "cell_type": "markdown",
   "id": "79824bdf",
   "metadata": {
    "slideshow": {
     "slide_type": "slide"
    }
   },
   "source": [
    "Or we just use the builtin ```PyTorch``` function, ```linalg.solve``` that does this for us!"
   ]
  },
  {
   "cell_type": "code",
   "execution_count": 31,
   "id": "cad7184b",
   "metadata": {
    "slideshow": {
     "slide_type": "fragment"
    }
   },
   "outputs": [
    {
     "name": "stdout",
     "output_type": "stream",
     "text": [
      "tensor([  6.0000,  15.0000, -23.0000], dtype=torch.float64)\n"
     ]
    }
   ],
   "source": [
    "print(torch.linalg.solve(A,b))"
   ]
  },
  {
   "cell_type": "markdown",
   "id": "05cd7f15",
   "metadata": {
    "slideshow": {
     "slide_type": "slide"
    }
   },
   "source": [
    "Why does ```linalg.solve``` if we can just say ```A.inverse() @ b```?"
   ]
  },
  {
   "cell_type": "markdown",
   "id": "09ef447c",
   "metadata": {
    "slideshow": {
     "slide_type": "fragment"
    }
   },
   "source": [
    "### Why `torch.linalg.solve` is Better than Taking the Inverse\n",
    "\n",
    "1. **Numerical Stability:**\n",
    "   - `torch.linalg.solve` uses specialized methods like LU decomposition or other direct solvers that are numerically stable. \n",
    "   - Computing the inverse explicitly can amplify errors in the matrix, especially for ill-conditioned matrices.\n",
    "\n",
    "2. **Performance:**\n",
    "   - Calculating the inverse of a matrix is an \\( O(n^3) \\) operation. After that, multiplying by \\( B \\) takes another \\( O(n^2) \\). \n",
    "   - In contrast, `torch.linalg.solve` directly computes the solution with optimized algorithms that avoid the costly inversion step.\n",
    "   - It is generally faster because it uses efficient methods such as LU decomposition or other factorizations, which are faster than computing the inverse.\n",
    "\n",
    "3. **Efficient Memory Use:**\n",
    "   - `torch.linalg.solve` does not require storing the inverse of \\( A \\), which is a \\( n \\times n \\) matrix.\n",
    "   - This reduces memory consumption, especially for large matrices."
   ]
  },
  {
   "cell_type": "code",
   "execution_count": 34,
   "id": "b5d1f69f",
   "metadata": {
    "slideshow": {
     "slide_type": "slide"
    }
   },
   "outputs": [
    {
     "name": "stdout",
     "output_type": "stream",
     "text": [
      "Are the solutions equal? True\n",
      "Time taken using torch.linalg.solve: 0.012212 seconds\n",
      "Time taken using inverse and multiplication: 0.016959 seconds\n"
     ]
    }
   ],
   "source": [
    "import torch\n",
    "import time\n",
    "\n",
    "# Set the size of the matrix A\n",
    "n = 1000\n",
    "\n",
    "# Generate a random square matrix A and a random vector B\n",
    "A = torch.randn(n, n)\n",
    "B = torch.randn(n)\n",
    "\n",
    "# Ensure A is invertible by making it symmetric positive definite\n",
    "A = A @ A.T + n * torch.eye(n)  # A * A^T + large scalar to make it invertible\n",
    "\n",
    "# Method 1: Using torch.linalg.solve to solve A * x = B\n",
    "start_time = time.time()\n",
    "x_solve = torch.linalg.solve(A, B)\n",
    "time_solve = time.time() - start_time\n",
    "\n",
    "# Method 2: Inverse of A and multiply by B\n",
    "start_time = time.time()\n",
    "A_inv = torch.linalg.inv(A)  # Calculate the inverse of A\n",
    "x_inv = A_inv @ B  # Multiply by B\n",
    "time_inv = time.time() - start_time\n",
    "\n",
    "# Check if both methods give the same result\n",
    "print(f\"Are the solutions equal? {torch.allclose(x_solve, x_inv)}\")\n",
    "\n",
    "# Print the performance comparison\n",
    "print(f\"Time taken using torch.linalg.solve: {time_solve:.6f} seconds\")\n",
    "print(f\"Time taken using inverse and multiplication: {time_inv:.6f} seconds\")"
   ]
  },
  {
   "cell_type": "markdown",
   "id": "ee058eed",
   "metadata": {
    "slideshow": {
     "slide_type": "slide"
    }
   },
   "source": [
    "## Matrix Calculus"
   ]
  },
  {
   "cell_type": "markdown",
   "id": "d2026dfb",
   "metadata": {
    "slideshow": {
     "slide_type": "fragment"
    }
   },
   "source": [
    "Next we should review some matrix calculus. This will help us when we discuss backpropagation next week!"
   ]
  },
  {
   "cell_type": "markdown",
   "id": "3177f32e",
   "metadata": {
    "slideshow": {
     "slide_type": "fragment"
    }
   },
   "source": [
    "We've discussed derivatives and how to take a derivative of a function with one variable. But in our deep nets, most functions will have multiple variables. So let's try to investigate how to take the derivative of those types of functions.\n",
    "\n",
    "For example, suppose $a(x,y) = xy$ what is the derivative of $a(x,y)$. Depends on the if we are changing $x$ or $y$. Hence, we'll need to work with partial derivatives."
   ]
  },
  {
   "cell_type": "markdown",
   "id": "4e1b6682",
   "metadata": {
    "slideshow": {
     "slide_type": "fragment"
    }
   },
   "source": [
    "Suppose:\n",
    "\n",
    "$$f(x,y) = 3x^2y$$\n",
    "\n",
    "then \n",
    "\n",
    "$$ \\nabla f(x,y) = \\left[ \\frac{\\partial f (x,y)}{\\partial x}, \\frac{\\partial f (x,y)}{\\partial y} \\right] = \\left[6xy, 3x^2\\right]$$"
   ]
  },
  {
   "cell_type": "markdown",
   "id": "b32c9275",
   "metadata": {
    "slideshow": {
     "slide_type": "slide"
    }
   },
   "source": [
    "Let's take a second function: \n",
    "\n",
    "\n",
    "$$g(x,y) = 2x + y^8$$\n",
    "\n",
    "then \n",
    "\n",
    "$$ \\nabla g(x,y) = \\left[ \\frac{\\partial g (x,y)}{\\partial x}, \\frac{\\partial g (x,y)}{\\partial y} \\right] = \\left[2, 8y^7\\right]$$"
   ]
  },
  {
   "cell_type": "markdown",
   "id": "f45f97e4",
   "metadata": {
    "slideshow": {
     "slide_type": "fragment"
    }
   },
   "source": [
    "As you can see, gradient functions organize their partial derivatives into a vector. We can extend this idea by stacking functions and organizing their gradients into a matrix: \n",
    "\n",
    "$$ J = \\left[ \\begin{array}{c} \\nabla f(x,y) \\\\ \\nabla g(x,y) \\end{array} \\right] = \\left[ \\begin{array}{cc} \\frac{\\partial f(x,y)}{\\partial x} & \\frac{\\partial f(x,y)}{\\partial y} \\\\ \\frac{\\partial g(x,y)}{\\partial x} & \\frac{\\partial g(x,y)}{\\partial y} \\end{array} \\right] = \\left[ \\begin{array}{cc} 6xy & 3x^2 \\\\ 2 & 8y^7 \\end{array} \\right] $$\n",
    "\n",
    "The above is called the Jacobian matrix. "
   ]
  },
  {
   "cell_type": "markdown",
   "id": "15e77bed",
   "metadata": {
    "slideshow": {
     "slide_type": "slide"
    }
   },
   "source": [
    "### Definition of Jacobian matrix\n",
    "\n",
    "For a function $ \\mathbf{f}(\\mathbf{x}) $, which takes a vector $ \\mathbf{x} \\in \\mathbb{R}^n $ and produces a vector $ \\mathbf{y} = \\mathbf{f}(\\mathbf{x}) \\in \\mathbb{R}^m $, the Jacobian matrix $ J $ is defined as the matrix of first-order partial derivatives of each component of $ \\mathbf{f} $ with respect to each component of $ \\mathbf{x} $.\n",
    "\n",
    "If we have:\n",
    "\n",
    "$$\n",
    "\\mathbf{f}(\\mathbf{x}) = \\begin{pmatrix} f_1(x_1, x_2, \\dots, x_n) \\\\ f_2(x_1, x_2, \\dots, x_n) \\\\ \\vdots \\\\ f_m(x_1, x_2, \\dots, x_n) \\end{pmatrix}\n",
    "$$\n",
    "\n",
    "and\n",
    "\n",
    "$$\n",
    "\\mathbf{x} = \\begin{pmatrix} x_1 \\\\ x_2 \\\\ \\vdots \\\\ x_n \\end{pmatrix}\n",
    "$$\n",
    "\n",
    "Then the Jacobian matrix $ J $ is an $ m \\times n $ matrix where the element in the $ i $-th row and $ j $-th column is the partial derivative of the $ i $-th output function $ f_i $ with respect to the $ j $-th input $ x_j $:\n",
    "\n",
    "$$\n",
    "J = \\begin{pmatrix} \\frac{\\partial f_1}{\\partial x_1} & \\frac{\\partial f_1}{\\partial x_2} & \\dots & \\frac{\\partial f_1}{\\partial x_n} \\\\ \\frac{\\partial f_2}{\\partial x_1} & \\frac{\\partial f_2}{\\partial x_2} & \\dots & \\frac{\\partial f_2}{\\partial x_n} \\\\ \\vdots & \\vdots & \\ddots & \\vdots \\\\ \\frac{\\partial f_m}{\\partial x_1} & \\frac{\\partial f_m}{\\partial x_2} & \\dots & \\frac{\\partial f_m}{\\partial x_n} \\end{pmatrix}\n",
    "$$\n",
    "\n",
    "Quick note: This is called numerator layout. Depending on the paper/discpline, you can also see denominator layout which is the transpose of the above:"
   ]
  },
  {
   "cell_type": "markdown",
   "id": "ca9b86d2",
   "metadata": {
    "slideshow": {
     "slide_type": "slide"
    }
   },
   "source": [
    "We can use PyTorch to calculate the Jacobian matrix as well. Let's get our 2D example from above again: \n",
    "\n",
    "$$ f_0(x_0,x_1) = 3x_0^2x_1 \\; \\; \\; \\; \\; \\; \\; \\; \\; \\; f_1(x_0,x_1) = 2x_0 + x_1^8 $$\n",
    "\n",
    "and we saw that the Jacobian looked like: \n",
    "\n",
    "$$ J = \\left[ \\begin{array}{c} \\nabla f_0(x_0,x_1) \\\\ \\nabla f_1(x_0,x_1) \\end{array} \\right] = \\left[ \\begin{array}{cc} \\frac{\\partial f_0(x_0,x_1)}{\\partial x_0} & \\frac{\\partial f_0(x_0,x_1)}{\\partial x_1} \\\\ \\frac{\\partial f_1(x_0,x_1)}{\\partial x_0} & \\frac{\\partial f_1(x_0,x_1)}{\\partial x_1} \\end{array} \\right] = \\left[ \\begin{array}{cc} 6 x_0 x_1 & 3x_0^2 \\\\ 2 & 8x_1^7 \\end{array} \\right] $$\n",
    "\n",
    "and at $\\left[x_0, x_1\\right] = \\left[1, 1\\right]$, we get: $J=\\left[ \\begin{array}{cc} 6 & 3 \\\\ 2 & 8 \\end{array} \\right]$ \n"
   ]
  },
  {
   "cell_type": "code",
   "execution_count": 78,
   "id": "2506e158",
   "metadata": {
    "slideshow": {
     "slide_type": "fragment"
    }
   },
   "outputs": [
    {
     "name": "stdout",
     "output_type": "stream",
     "text": [
      "(tensor([6., 3.], dtype=torch.float64), tensor([2., 8.], dtype=torch.float64))\n"
     ]
    }
   ],
   "source": [
    "import torch\n",
    "\n",
    "# def f0(x): \n",
    "#     return 3 * (x[0]**2) * x[1]\n",
    "# def f1(x): \n",
    "#     return 2*x[0] + x[1]**8\n",
    "\n",
    "def f(x): \n",
    "    return (3 * (x[0]**2) * x[1], 2*x[0] + x[1]**8)\n",
    "\n",
    "x = torch.tensor([1, 1], dtype=float)\n",
    "#print(f(x))\n",
    "print(torch.autograd.functional.jacobian(f, x))"
   ]
  },
  {
   "cell_type": "markdown",
   "id": "5737e4cd",
   "metadata": {
    "slideshow": {
     "slide_type": "slide"
    }
   },
   "source": [
    "## Important Derivatives:"
   ]
  },
  {
   "cell_type": "markdown",
   "id": "322e5d1c",
   "metadata": {
    "slideshow": {
     "slide_type": "slide"
    }
   },
   "source": [
    "$$\\frac{\\partial A x}{\\partial x} = A$$ (numerator format) \n",
    "\n",
    "Let $ A $ be a matrix of size $ m \\times n $, and $ x $ be a vector of size $ n \\times 1 $. The product $ A x $ is a vector of size $ m \\times 1 $.\n",
    "\n",
    "We want to compute the derivative of $ A x $ with respect to $ x $, i.e., $ \\frac{\\partial}{\\partial x} (A x) $.\n",
    "\n",
    "### Step 1: Understand the structure of the product\n",
    "\n",
    "The matrix-vector product $ A x $ is a linear transformation. Each entry in the resulting vector is a linear combination of the components of the vector $ x $.\n",
    "\n",
    "For instance, if we write the product element-wise:\n",
    "\n",
    "$$\n",
    "(A x)_i = \\sum_{j=1}^{n} A_{ij} x_j\n",
    "$$\n",
    "\n",
    "where $ A_{ij} $ are the elements of the matrix $ A $ and $ x_j $ are the components of the vector $ x $.\n",
    "\n",
    "### Step 2: Compute the derivative\n",
    "\n",
    "To compute the derivative $ \\frac{\\partial}{\\partial x} (A x) $, we need to examine how each component of $ A x $ changes with respect to each component of $ x $.\n",
    "\n",
    "- The derivative of $ (A x)_i $ with respect to $ x_j $ is simply the matrix element $ A_{ij} $, because:\n",
    "\n",
    "$$\n",
    "(A x)_i = \\sum_{j=1}^{n} A_{ij} x_j\n",
    "$$\n",
    "\n",
    "and the derivative of this with respect to $ x_j $ is $ A_{ij} $.\n",
    "\n",
    "\n",
    "\n",
    "Note: if we're assuming denominator format, we would flip the indices"
   ]
  },
  {
   "cell_type": "markdown",
   "id": "c42b965d",
   "metadata": {
    "slideshow": {
     "slide_type": "slide"
    }
   },
   "source": [
    "$$ \\frac{\\partial x^T x}{\\partial x} = 2 x $$\n",
    "\n",
    "Think of it this way, the product of a scalar and its transpose is scalar size:  \n",
    "\n",
    "$$ x^T x = x_0^2 + x_1^2 + \\ldots + x_n^2 = z(x) $$\n",
    "\n",
    "so measuring the effect each $x_i$ value has on the end sum would yield a vector: \n",
    "\n",
    "$$ \\left[ \\frac{\\partial z(x)}{\\partial x_0}, \\frac{\\partial z(x)}{\\partial x_1}, \\ldots, \\frac{\\partial z(x)}{\\partial x_n} \\right] = \\left[2 x_0, 2 x_1, \\ldots 2 x_n\\right] = 2x$$"
   ]
  },
  {
   "cell_type": "markdown",
   "id": "66f780ce",
   "metadata": {
    "slideshow": {
     "slide_type": "slide"
    }
   },
   "source": [
    "## That's it for now\n",
    "\n",
    "- Have a good weekend\n",
    "- Remember your HW is due Monday evening\n",
    "- Next week is on auto-differentiation fun"
   ]
  }
 ],
 "metadata": {
  "celltoolbar": "Slideshow",
  "kernelspec": {
   "display_name": ".venv",
   "language": "python",
   "name": "python3"
  },
  "language_info": {
   "codemirror_mode": {
    "name": "ipython",
    "version": 3
   },
   "file_extension": ".py",
   "mimetype": "text/x-python",
   "name": "python",
   "nbconvert_exporter": "python",
   "pygments_lexer": "ipython3",
   "version": "3.13.1"
  }
 },
 "nbformat": 4,
 "nbformat_minor": 5
}
