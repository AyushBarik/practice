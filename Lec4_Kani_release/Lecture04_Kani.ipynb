{
 "cells": [
  {
   "cell_type": "markdown",
   "id": "f27a67e3",
   "metadata": {
    "slideshow": {
     "slide_type": "slide"
    }
   },
   "source": [
    "<img align=\"left\" src=\"img/ECE364-logo.png\" width=\"300px\" style=\"padding:30px;border:thin solid white;\"> \n",
    "\n",
    "# Lecture 4 - Auto-differentiation I\n",
    "## ECE364 - Programming Methods for Machine Learning\n",
    "### Nickvash Kani \n",
    "\n",
    "\n",
    "\n",
    "\n",
    "\n",
    "\n",
    "\n",
    "\n",
    "\n",
    "\n",
    "\n",
    "\n",
    "###### Slides based off prior lectures by Alex Schwing, Aigou Han, Farzas Kamalabadi, Corey Snyder. All mistakes are my own!"
   ]
  },
  {
   "cell_type": "markdown",
   "id": "c230c070",
   "metadata": {
    "slideshow": {
     "slide_type": "fragment"
    }
   },
   "source": [
    "In this lecture we will cover\n",
    "\n",
    "- Review of: \n",
    "    - Derivatives\n",
    "    - Chain rule\n",
    "    - Partial derivatives \n",
    "- Optimization (core idea)\n",
    "    - For a certain value\n",
    "    - Loss functions\n",
    "- Gradient descent\n",
    "    - in one dimension\n",
    "    - in two dimensions\n",
    "    - in n dimensions\n",
    "- Computation Graphs\n",
    "    - Tracing forward pass\n",
    "    - Calculating partial derivatievs usig backward pass\n",
    "- Combining gradient descent and computation graphs\n"
   ]
  },
  {
   "cell_type": "markdown",
   "id": "ffc72544",
   "metadata": {
    "slideshow": {
     "slide_type": "slide"
    }
   },
   "source": [
    "## Recap on matrix calculus: "
   ]
  },
  {
   "cell_type": "markdown",
   "id": "388ffbeb",
   "metadata": {
    "slideshow": {
     "slide_type": "fragment"
    }
   },
   "source": [
    "Let's do some rapid fire Q/A"
   ]
  },
  {
   "cell_type": "markdown",
   "id": "19697eae",
   "metadata": {
    "slideshow": {
     "slide_type": "fragment"
    }
   },
   "source": [
    "Q: Given a scalar $x$ and a vector of functions $f = \\left[f_1, f_2, \\ldots, f_n \\right]$ what is $\\frac{\\partial f}{\\partial x}$?"
   ]
  },
  {
   "cell_type": "markdown",
   "id": "66106d55",
   "metadata": {
    "slideshow": {
     "slide_type": "fragment"
    }
   },
   "source": [
    "A: $\\frac{\\partial f}{\\partial x} = \\left[\\frac{\\partial f_1}{\\partial x}, \\frac{\\partial f_2}{\\partial x}, \\ldots \\frac{\\partial f_n}{\\partial x} \\right]$"
   ]
  },
  {
   "cell_type": "markdown",
   "id": "b21db390",
   "metadata": {
    "slideshow": {
     "slide_type": "fragment"
    }
   },
   "source": [
    "Q: Given a **vector** $X$ and a vector of functions $f = \\left[f_1, f_2, \\ldots, f_n \\right]$ what is $\\frac{\\partial f}{\\partial X}$?"
   ]
  },
  {
   "cell_type": "markdown",
   "id": "f66bd179",
   "metadata": {
    "slideshow": {
     "slide_type": "fragment"
    }
   },
   "source": [
    "A: $$\n",
    "\\frac{\\partial y}{\\partial x} =\n",
    "\\begin{bmatrix}\n",
    "\\nabla f_1(x) \\\\\n",
    "\\nabla f_2(x) \\\\\n",
    "\\vdots \\\\\n",
    "\\nabla f_m(x)\n",
    "\\end{bmatrix}\n",
    "=\n",
    "\\begin{bmatrix}\n",
    "\\frac{\\partial}{\\partial x} f_1(x) \\\\\n",
    "\\frac{\\partial}{\\partial x} f_2(x) \\\\\n",
    "\\vdots \\\\\n",
    "\\frac{\\partial}{\\partial x} f_m(x)\n",
    "\\end{bmatrix}\n",
    "=\n",
    "\\begin{bmatrix}\n",
    "\\frac{\\partial}{\\partial x_1} f_1(x) & \\frac{\\partial}{\\partial x_2} f_1(x) & \\dots & \\frac{\\partial}{\\partial x_n} f_1(x) \\\\\n",
    "\\frac{\\partial}{\\partial x_1} f_2(x) & \\frac{\\partial}{\\partial x_2} f_2(x) & \\dots & \\frac{\\partial}{\\partial x_n} f_2(x) \\\\\n",
    "\\vdots & \\vdots & \\ddots & \\vdots \\\\\n",
    "\\frac{\\partial}{\\partial x_1} f_m(x) & \\frac{\\partial}{\\partial x_2} f_m(x) & \\dots & \\frac{\\partial}{\\partial x_n} f_m(x)\n",
    "\\end{bmatrix}\n",
    "$$"
   ]
  },
  {
   "cell_type": "markdown",
   "id": "dbd39513",
   "metadata": {
    "slideshow": {
     "slide_type": "slide"
    }
   },
   "source": [
    "Q: Consider a matrix $A$ of size $m \\times n$ and a vector $X$ of size $n \\times 1$, what is $\\frac{\\partial Ax}{\\partial X}$?"
   ]
  },
  {
   "cell_type": "markdown",
   "id": "01429d2b",
   "metadata": {
    "slideshow": {
     "slide_type": "fragment"
    }
   },
   "source": [
    "Let's rewrite this a bit: \n",
    "\n",
    "$$\n",
    "AX = \n",
    "\\begin{bmatrix}\n",
    "A_{11} x_1 + A_{12} x_2 + \\dots + A_{1n} x_n\\\\\n",
    "A_{21} x_1 + A_{22} x_2 + \\dots + A_{2n} x_n\\\\\n",
    "\\vdots \\\\\n",
    "A_{m1} x_1 + A_{m2} x_2 + \\dots + A_{mn} x_n\\\\\n",
    "\\end{bmatrix}\n",
    "$$"
   ]
  },
  {
   "cell_type": "markdown",
   "id": "19ebf4df",
   "metadata": {
    "slideshow": {
     "slide_type": "fragment"
    }
   },
   "source": [
    "Another way to rewrite this: \n",
    "\n",
    "$$ AX = \\left[  \\Sigma^n_{j=1} A_{1j} x_j, \\Sigma^n_{j=1} A_{2j} x_j, \\dots, \\Sigma^n_{j=1} A_{mj} x_j  \\right] $$ \n",
    "\n",
    "so \n",
    "\n",
    "$$\n",
    "(A X)_i = \\sum_{j=1}^{n} A_{ij} x_j\n",
    "$$"
   ]
  },
  {
   "cell_type": "markdown",
   "id": "f9b96ee0",
   "metadata": {
    "slideshow": {
     "slide_type": "slide"
    }
   },
   "source": [
    "Now we can compute the derivative. Remember row is for each element of X and columns are for elements of $AX$:\n",
    "\n",
    "$$\n",
    "\\frac{\\partial}{\\partial X} AX\n",
    "=\n",
    "\\begin{bmatrix}\n",
    "\\frac{\\partial}{\\partial x_1} \\sum_{j=1}^{n} A_{1j} x_j & \\frac{\\partial}{\\partial x_2} \\sum_{j=1}^{n} A_{1j} x_j & \\dots & \\frac{\\partial}{\\partial x_n} \\sum_{j=1}^{n} A_{1j} x_j \\\\\n",
    "\\frac{\\partial}{\\partial x_1} \\sum_{j=1}^{n} A_{2j} x_j & \\frac{\\partial}{\\partial x_2} \\sum_{j=1}^{n} A_{2j} x_j & \\dots & \\frac{\\partial}{\\partial x_n} \\sum_{j=1}^{n} A_{2j} x_j \\\\\n",
    "\\vdots & \\vdots & \\ddots & \\vdots \\\\\n",
    "\\frac{\\partial}{\\partial x_1} \\sum_{j=1}^{n} A_{mj} x_j & \\frac{\\partial}{\\partial x_2} \\sum_{j=1}^{n} A_{mj} x_j & \\dots & \\frac{\\partial}{\\partial x_n} \\sum_{j=1}^{n} A_{mj} x_j\n",
    "\\end{bmatrix}\n",
    "=\n",
    "\\begin{bmatrix}\n",
    " A_{11} & A_{12} & \\dots & A_{1n} \\\\\n",
    " A_{21} & A_{22} & \\dots & A_{2n} \\\\\n",
    "\\vdots  & \\vdots & \\ddots & \\vdots \\\\\n",
    "A_{m1}  & A_{m2} & \\dots & A_{mn} \n",
    "\\end{bmatrix}\n",
    "$$"
   ]
  },
  {
   "cell_type": "markdown",
   "id": "00d8cc18",
   "metadata": {
    "slideshow": {
     "slide_type": "slide"
    }
   },
   "source": [
    "Q: What is the derivative of a vector with respect to itself ($f(x) = x$) "
   ]
  },
  {
   "cell_type": "markdown",
   "id": "e8d19ef8",
   "metadata": {
    "slideshow": {
     "slide_type": "fragment"
    }
   },
   "source": [
    "$$\n",
    "\\frac{\\partial y}{\\partial x} =\n",
    "\\begin{bmatrix}\n",
    "\\frac{\\partial}{\\partial x} f_1(x) \\\\\n",
    "\\frac{\\partial}{\\partial x} f_2(x) \\\\\n",
    "\\vdots \\\\\n",
    "\\frac{\\partial}{\\partial x} f_m(x)\n",
    "\\end{bmatrix}\n",
    "=\n",
    "\\begin{bmatrix}\n",
    "\\frac{\\partial}{\\partial x_1} f_1(x) & \\frac{\\partial}{\\partial x_2} f_1(x) & \\cdots & \\frac{\\partial}{\\partial x_n} f_1(x) \\\\\n",
    "\\frac{\\partial}{\\partial x_1} f_2(x) & \\frac{\\partial}{\\partial x_2} f_2(x) & \\cdots & \\frac{\\partial}{\\partial x_n} f_2(x) \\\\\n",
    "\\vdots & \\vdots & \\ddots & \\vdots \\\\\n",
    "\\frac{\\partial}{\\partial x_1} f_m(x) & \\frac{\\partial}{\\partial x_2} f_m(x) & \\cdots & \\frac{\\partial}{\\partial x_n} f_m(x)\n",
    "\\end{bmatrix}\n",
    "=\n",
    "\\begin{bmatrix}\n",
    "\\frac{\\partial}{\\partial x_1} x_1 & \\frac{\\partial}{\\partial x_2} x_1 & \\cdots & \\frac{\\partial}{\\partial x_n} x_1 \\\\\n",
    "\\frac{\\partial}{\\partial x_1} x_2 & \\frac{\\partial}{\\partial x_2} x_2 & \\cdots & \\frac{\\partial}{\\partial x_n} x_2 \\\\\n",
    "\\vdots & \\vdots & \\ddots & \\vdots \\\\\n",
    "\\frac{\\partial}{\\partial x_1} x_n & \\frac{\\partial}{\\partial x_2} x_n & \\cdots & \\frac{\\partial}{\\partial x_n} x_n\n",
    "\\end{bmatrix}\n",
    "$$\n",
    "\n",
    "(and since $\\frac{\\partial}{\\partial x_j} x_i = 0$ for $j \\neq i$):\n",
    "\n",
    "$$\n",
    "=\n",
    "\\begin{bmatrix}\n",
    "\\frac{\\partial}{\\partial x_1} x_1 & 0 & \\cdots & 0 \\\\\n",
    "0 & \\frac{\\partial}{\\partial x_2} x_2 & \\cdots & 0 \\\\\n",
    "\\vdots & \\vdots & \\ddots & \\vdots \\\\\n",
    "0 & 0 & \\cdots & \\frac{\\partial}{\\partial x_n} x_n\n",
    "\\end{bmatrix}\n",
    "=\n",
    "\\begin{bmatrix}\n",
    "1 & 0 & \\cdots & 0 \\\\\n",
    "0 & 1 & \\cdots & 0 \\\\\n",
    "\\vdots & \\vdots & \\ddots & \\vdots \\\\\n",
    "0 & 0 & \\cdots & 1\n",
    "\\end{bmatrix}\n",
    "= I \\quad \\text{(I is the identity matrix with ones down the diagonal)}. [2]\n",
    "$$"
   ]
  },
  {
   "cell_type": "markdown",
   "id": "44cf6ae6",
   "metadata": {
    "slideshow": {
     "slide_type": "slide"
    }
   },
   "source": [
    "The matrix calculations follow an intuitive pattern: \n",
    "\n",
    "<img align=\"center\" src=\"img/derivative_graph_basic.png\" width=\"300px\" style=\"padding:30px;border:thin solid white;\"> \n"
   ]
  },
  {
   "cell_type": "markdown",
   "id": "ee4abaca",
   "metadata": {
    "slideshow": {
     "slide_type": "slide"
    }
   },
   "source": [
    "**Alertness Check**: Given two vectors $w$ and $x$ what is the hadamard product of the two vectors $\\frac{\\partial(w \\otimes x)}{\\partial x}$ with respect to x? "
   ]
  },
  {
   "cell_type": "markdown",
   "id": "526a166d",
   "metadata": {
    "slideshow": {
     "slide_type": "fragment"
    }
   },
   "source": [
    "$$\n",
    "\\frac{\\partial y}{\\partial x}\n",
    "=\n",
    "\\begin{bmatrix}\n",
    "\\frac{\\partial}{\\partial x_1} (w \\otimes x)_1 & \\frac{\\partial}{\\partial x_2} (w \\otimes x)_1 & \\dots & \\frac{\\partial}{\\partial x_n} (w \\otimes x)_1 \\\\\n",
    "\\frac{\\partial}{\\partial x_1} (w \\otimes x)_2 & \\frac{\\partial}{\\partial x_2} (w \\otimes x)_2 & \\dots & \\frac{\\partial}{\\partial x_n} (w \\otimes x)_2 \\\\\n",
    "\\vdots & \\vdots & \\ddots & \\vdots \\\\\n",
    "\\frac{\\partial}{\\partial x_1} (w \\otimes x)_n & \\frac{\\partial}{\\partial x_2} (w \\otimes x)_n & \\dots & \\frac{\\partial}{\\partial x_n} (w \\otimes x)_n\n",
    "\\end{bmatrix}\n",
    "=\n",
    "\\begin{bmatrix}\n",
    "\\frac{\\partial}{\\partial x_1} (w \\otimes x)_1 & 0 & \\dots & 0 \\\\\n",
    "0 & \\frac{\\partial}{\\partial x_2} (w \\otimes x)_2 & \\dots & 0 \\\\\n",
    "\\vdots & \\vdots & \\ddots & \\vdots \\\\\n",
    "0 & 0 & \\dots & \\frac{\\partial}{\\partial x_n} (w \\otimes x)_n\n",
    "\\end{bmatrix}\n",
    "=I\n",
    "$$"
   ]
  },
  {
   "cell_type": "markdown",
   "id": "8ad21f3c",
   "metadata": {
    "slideshow": {
     "slide_type": "fragment"
    }
   },
   "source": [
    "Some useful identities: \n",
    "\n",
    "| Op   | Partial with respect to $x$                                    | Partial with respect to $w$                                    |\n",
    "|------|----------------------------------------------------------------|----------------------------------------------------------------|\n",
    "|$$+$$  | $$\\frac{\\partial(w + x)}{\\partial x} = I$$                       | $$\\frac{\\partial(w + x)}{\\partial w} = \\text{diag}(1) = I$$      |\n",
    "| $$-$$  | $$\\frac{\\partial(w - x)}{\\partial x} = \\text{diag}(-1) = -I$$    | $$\\frac{\\partial(w - x)}{\\partial w} = \\text{diag}(1) = I$$      |\n",
    "| $$\\otimes$$ | $$\\frac{\\partial(w \\otimes x)}{\\partial x} = \\text{diag}(w)$$ | $$\\frac{\\partial(w \\otimes x)}{\\partial w} = \\text{diag}(x)$$    |\n",
    "| $$\\oslash$$ | $$\\frac{\\partial(w / x)}{\\partial x} = \\text{diag}(-w / x^2)$$ | $$\\frac{\\partial(w / x)}{\\partial w} = \\text{diag}(1 / x)$$      |\n"
   ]
  },
  {
   "cell_type": "markdown",
   "id": "9ce7bb1b",
   "metadata": {
    "slideshow": {
     "slide_type": "slide"
    }
   },
   "source": [
    "### Multi function derivatives"
   ]
  },
  {
   "cell_type": "markdown",
   "id": "046ac583",
   "metadata": {
    "slideshow": {
     "slide_type": "fragment"
    }
   },
   "source": [
    "Suppose we are summing two functions together $y=f(w) + g(w)$. $f$ and $g$ are both vectorized meaning $y$ looks like: \n",
    "\n",
    "$$\n",
    "\\begin{bmatrix}\n",
    "y_1 \\\\\n",
    "y_2 \\\\\n",
    "\\vdots \\\\\n",
    "y_n\n",
    "\\end{bmatrix}\n",
    "=\n",
    "\\begin{bmatrix}\n",
    "f_1(\\mathbf{w}) \\circ g_1(\\mathbf{x}) \\\\\n",
    "f_2(\\mathbf{w}) \\circ g_2(\\mathbf{x}) \\\\\n",
    "\\vdots \\\\\n",
    "f_n(\\mathbf{w}) \\circ g_n(\\mathbf{x})\n",
    "\\end{bmatrix}\n",
    "$$\n",
    "\n",
    "The Jacobian with respect to $w$ is:\n",
    "\n",
    "$$\n",
    "J_w = \\frac{\\partial y}{\\partial w} =\n",
    "\\begin{bmatrix}\n",
    "\\frac{\\partial}{\\partial w_1} (f_1(w) \\circ g_1(x)) & \\frac{\\partial}{\\partial w_2} (f_1(w) \\circ g_1(x)) & \\cdots & \\frac{\\partial}{\\partial w_n} (f_1(w) \\circ g_1(x)) \\\\\n",
    "\\frac{\\partial}{\\partial w_1} (f_2(w) \\circ g_2(x)) & \\frac{\\partial}{\\partial w_2} (f_2(w) \\circ g_2(x)) & \\cdots & \\frac{\\partial}{\\partial w_n} (f_2(w) \\circ g_2(x)) \\\\\n",
    "\\vdots & \\vdots & \\ddots & \\vdots \\\\\n",
    "\\frac{\\partial}{\\partial w_1} (f_n(w) \\circ g_n(x)) & \\frac{\\partial}{\\partial w_2} (f_n(w) \\circ g_n(x)) & \\cdots & \\frac{\\partial}{\\partial w_n} (f_n(w) \\circ g_n(x))\n",
    "\\end{bmatrix}\n",
    "$$\n",
    "\n",
    "and the Jacobian with respect to $x$ is:\n",
    "\n",
    "$$\n",
    "J_x = \\frac{\\partial y}{\\partial x} =\n",
    "\\begin{bmatrix}\n",
    "\\frac{\\partial}{\\partial x_1} (f_1(w) \\circ g_1(x)) & \\frac{\\partial}{\\partial x_2} (f_1(w) \\circ g_1(x)) & \\cdots & \\frac{\\partial}{\\partial x_n} (f_1(w) \\circ g_1(x)) \\\\\n",
    "\\frac{\\partial}{\\partial x_1} (f_2(w) \\circ g_2(x)) & \\frac{\\partial}{\\partial x_2} (f_2(w) \\circ g_2(x)) & \\cdots & \\frac{\\partial}{\\partial x_n} (f_2(w) \\circ g_2(x)) \\\\\n",
    "\\vdots & \\vdots & \\ddots & \\vdots \\\\\n",
    "\\frac{\\partial}{\\partial x_1} (f_n(w) \\circ g_n(x)) & \\frac{\\partial}{\\partial x_2} (f_n(w) \\circ g_n(x)) & \\cdots & \\frac{\\partial}{\\partial x_n} (f_n(w) \\circ g_n(x))\n",
    "\\end{bmatrix}\n",
    "$$\n"
   ]
  },
  {
   "cell_type": "markdown",
   "id": "947a14a2",
   "metadata": {
    "slideshow": {
     "slide_type": "slide"
    }
   },
   "source": [
    "**Alertness Check**: For what condition(s) and operation(s) are the off-diagonal components of $J_x = \\frac{\\partial f(x)}{\\partial x} = 0$\n",
    "\n",
    "$$\n",
    "\\frac{\\partial y}{\\partial x} =\n",
    "\\begin{bmatrix}\n",
    "\\frac{\\partial}{\\partial w_1} \\left(f_1(w_1) \\circ g_1(x_1)\\right) & 0 & \\cdots & 0 \\\\\n",
    "0 & \\frac{\\partial}{\\partial w_2} \\left(f_2(w_2) \\circ g_2(x_2)\\right) & \\cdots & 0 \\\\\n",
    "\\vdots & \\vdots & \\ddots & \\vdots \\\\\n",
    "0 & 0 & \\cdots & \\frac{\\partial}{\\partial w_n} \\left(f_n(w_n) \\circ g_n(x_n)\\right)\n",
    "\\end{bmatrix}\n",
    "$$\n"
   ]
  },
  {
   "cell_type": "markdown",
   "id": "3f8491aa",
   "metadata": {
    "slideshow": {
     "slide_type": "fragment"
    }
   },
   "source": [
    "When $f_i(w) = f_i(w_i)$, $g_i(x) = g_i(x_i)$, and $\\circ$ is a element-wise operator."
   ]
  },
  {
   "cell_type": "markdown",
   "id": "c0e8ed8d",
   "metadata": {
    "slideshow": {
     "slide_type": "slide"
    }
   },
   "source": [
    "### Other important matric calculus identities\n",
    "\n",
    "- Scalar expansion: $$\\frac{\\partial}{\\partial x}fx = f $$\n",
    "- Vector sum reduction: \n",
    "$$\n",
    "y = sum(X)\n",
    "$$\n",
    "\n",
    "$$\n",
    "\\begin{matrix}\n",
    "\\frac{\\partial y}{\\partial x} &= \\left[ \\frac{\\partial y}{\\partial x_1}, \\frac{\\partial y}{\\partial x_2}, \\dots, \\frac{\\partial y}{\\partial x_n} \\right] \\\\ \n",
    "&=\\left[\\frac{\\partial}{\\partial x_1} \\Sigma^n_i x_i, \\frac{\\partial}{\\partial x_1} \\Sigma^n_i x_i, \\dots, \\frac{\\partial}{\\partial x_n} \\Sigma^n_i x_i   \\right] \\\\\n",
    "&=\\left[\\frac{\\partial x_1}{\\partial x_1}, \\frac{\\partial x_2}{\\partial x_2}, \\dots, \\frac{\\partial x_n}{\\partial x_n} \\right] \\\\\n",
    "&=\\left[1,1, \\dots, 1\\right] = \\overrightarrow{1}^T\n",
    "\\end{matrix}\n",
    "$$"
   ]
  },
  {
   "cell_type": "markdown",
   "id": "326c94cd",
   "metadata": {
    "slideshow": {
     "slide_type": "slide"
    }
   },
   "source": [
    "## Single Variable Chain rule"
   ]
  },
  {
   "cell_type": "markdown",
   "id": "a897ee86",
   "metadata": {
    "cell_style": "center",
    "slideshow": {
     "slide_type": "fragment"
    }
   },
   "source": [
    "Let's reconsider the simple network we talked about in last lecture."
   ]
  },
  {
   "cell_type": "markdown",
   "id": "814016a1",
   "metadata": {
    "slideshow": {
     "slide_type": "fragment"
    }
   },
   "source": [
    "Remember we had a multi-function network: \n",
    "\n",
    "<img align=\"center\" src=\"img/comp_graph_example_1d.png\" width=\"600px\" style=\"padding:30px;border:thin solid white;\"> "
   ]
  },
  {
   "cell_type": "markdown",
   "id": "e85f27ca",
   "metadata": {
    "slideshow": {
     "slide_type": "fragment"
    }
   },
   "source": [
    "Where the functions above are defined as follows: \n",
    "\n",
    "$g(x) = x^2+1$, $h(g) = \\log(g)$, $k(h) = \\sin(h)$. Thus, $f(x) = k(h(g(x)))$\n",
    "\n",
    "The resulting function is: $$f(x) = \\sin(\\log(((x)^2+1)))$$"
   ]
  },
  {
   "cell_type": "markdown",
   "id": "7d3ceecb",
   "metadata": {
    "slideshow": {
     "slide_type": "slide"
    }
   },
   "source": [
    "One thing that bothers me about the previous flowchart is that $h$ and $k$ are single operators but $g$ is a complex function. As we know this isn't how PyTorch breaks down functions so let's fix this up quickly: "
   ]
  },
  {
   "cell_type": "markdown",
   "id": "18d7876c",
   "metadata": {
    "slideshow": {
     "slide_type": "fragment"
    }
   },
   "source": [
    "Where the functions above are defined as follows: \n",
    "\n",
    "$e(x) = x^2$, $g(e) = e+1$, $h(g) = \\log(g)$, $k(h) = \\sin(h)$. Thus, $f(x) = k(h(g(x)))$\n",
    "\n",
    "The resulting function is: $$f(x) = \\sin(\\log(((x)^2+1)))$$\n",
    "\n",
    "\n",
    "<img align=\"center\" src=\"img/comp_graph_example_1d_2.png\" width=\"700px\" style=\"padding:30px;border:thin solid white;\"> "
   ]
  },
  {
   "cell_type": "markdown",
   "id": "ddd13a1e",
   "metadata": {
    "slideshow": {
     "slide_type": "fragment"
    }
   },
   "source": [
    "$$\\frac{df}{dx} = \\left.\\frac{dk}{dh}\\right|_{h(g)} \\cdot \\left.\\frac{dh}{dg}\\right|_{g(x)} \\cdot \\left.\\frac{dg}{de}\\right|_{e(x)} \\cdot \\left.\\frac{de}{dx}\\right|_x$$\n",
    "\n",
    "$$\\frac{df}{dx} = \\cos(h(g)) \\cdot \\frac{1}{g(x)} \\cdot 1 \\cdot 2x = \\cos(\\log(x^2+1)) \\cdot \\frac{1}{x^2+1} \\cdot 2x= \\frac{2x\\cos(\\log(x^2+1))}{x^2+1}$$"
   ]
  },
  {
   "cell_type": "markdown",
   "id": "acb8966d",
   "metadata": {
    "slideshow": {
     "slide_type": "slide"
    }
   },
   "source": [
    "At $x=1$, $\\frac{\\partial f}{\\partial x} = \\frac{2x\\cos(\\log(x^2+1))}{x^2+1} = .7692$ which we can verify with PyTorch:"
   ]
  },
  {
   "cell_type": "code",
   "execution_count": 5,
   "id": "2f2dfda9",
   "metadata": {
    "slideshow": {
     "slide_type": "fragment"
    }
   },
   "outputs": [
    {
     "name": "stdout",
     "output_type": "stream",
     "text": [
      "Manually computed derivative from closed form: tensor([0.7692])\n",
      "Letting PyTorch automatically find the derivative: tensor([0.7692])\n"
     ]
    }
   ],
   "source": [
    "import torch\n",
    "import numpy\n",
    "\n",
    "x = torch.Tensor([1])\n",
    "x.requires_grad = True\n",
    "e = x**2\n",
    "g = e + 1\n",
    "h = torch.log(g)\n",
    "k = torch.sin(h)\n",
    "\n",
    "# manual derivative (gradient)\n",
    "with torch.no_grad():\n",
    "    manual = 2*x*torch.cos(torch.log(x**2+1))/(x**2+1)\n",
    "\n",
    "k.backward()\n",
    "automatic = x.grad\n",
    "print('Manually computed derivative from closed form: {}'.format(manual))\n",
    "print('Letting PyTorch automatically find the derivative: {}'.format(automatic))"
   ]
  },
  {
   "cell_type": "markdown",
   "id": "697a210c",
   "metadata": {
    "slideshow": {
     "slide_type": "slide"
    }
   },
   "source": [
    "Pretty simple right? Ok let's change the above example a bit: "
   ]
  },
  {
   "cell_type": "markdown",
   "id": "ca5a11c5",
   "metadata": {
    "slideshow": {
     "slide_type": "fragment"
    }
   },
   "source": [
    "Where the functions above are defined as follows: \n",
    "\n",
    "$e(x) = x^2$, $g(e,x) = e\\mathbf{+x}$, $h(g) = \\log(g)$, $k(h) = \\sin(h)$. Thus, $f(x) = k(h(g(x)))$\n",
    "\n",
    "The resulting function is: $$f(x) = \\sin(\\log(((x)^2+x)))$$"
   ]
  },
  {
   "cell_type": "markdown",
   "id": "0dba3c76",
   "metadata": {
    "slideshow": {
     "slide_type": "fragment"
    }
   },
   "source": [
    "Since g is composed from two operations, let's take some partial derivatives: \n",
    "\n",
    "$$\n",
    "\\begin{matrix}\n",
    "    \\frac{\\partial}{\\partial e}g(e,x) = 1 + 0 = 1\n",
    "    \\frac{\\partial}{\\partial x}g(e,x) = 0 + 1 = 1\n",
    "\\end{matrix}\n",
    "$$\n",
    "\n",
    "So the question is what does \\frac{df}{dx} look like: \n",
    "\n",
    "Option 1: \n",
    "$$\\frac{df}{dx} = \\left.\\frac{dk}{dh}\\right|_{h(g)} \\cdot \\left.\\frac{dh}{dg}\\right|_{g(x)} \\cdot \\left.\\frac{dg}{de}\\right|_{e(x)} \\cdot \\left.\\frac{de}{dx}\\right|_x$$\n",
    "\n",
    "$$\\frac{df}{dx} = \\cos(h(g)) \\cdot \\frac{1}{g(x)} \\cdot 1 \\cdot 2x = \\cos(\\log(x^2+1)) \\cdot \\frac{1}{x^2+1} \\cdot 2x= \\frac{2x\\cos(\\log(x^2+1))}{x^2+1}$$\n",
    "\n",
    "Option 2: \n",
    "$$\\frac{df}{dx} = \\left.\\frac{dk}{dh}\\right|_{h(g)} \\cdot \\left.\\frac{dh}{dg}\\right|_{g(x)} \\cdot \\left.\\frac{dg}{dx}\\right|_{x} $$\n",
    "\n",
    "$$\\frac{df}{dx} = \\cos(h(g)) \\cdot \\frac{1}{g(x)} \\cdot 1 \\cdot 2x = \\cos(\\log(x^2+1)) \\cdot \\frac{1}{x^2+1} = \\frac{\\cos(\\log(x^2+1))}{x^2+1}$$"
   ]
  },
  {
   "cell_type": "markdown",
   "id": "dfa5df63",
   "metadata": {
    "slideshow": {
     "slide_type": "slide"
    }
   },
   "source": [
    "What's right? Well let's turn to PyTorch. At $x=1$ From the prior equations: \n",
    "\n",
    "- Option 1: $$\\frac{df}{dx} =  \\frac{2x\\cos(\\log(x^2+1))}{x^2+1} = 0.7692$$\n",
    "- Option 2: $$\\frac{df}{dx} = \\frac{\\cos(\\log(x^2+1))}{x^2+1} = 0.3846$$\n",
    "\n",
    "And PyTorch says: "
   ]
  },
  {
   "cell_type": "code",
   "execution_count": 7,
   "id": "18f9f283",
   "metadata": {
    "slideshow": {
     "slide_type": "fragment"
    }
   },
   "outputs": [
    {
     "name": "stdout",
     "output_type": "stream",
     "text": [
      "Letting PyTorch automatically find the derivative: tensor([1.1539])\n"
     ]
    }
   ],
   "source": [
    "import torch\n",
    "import numpy\n",
    "\n",
    "x = torch.Tensor([1])\n",
    "x.requires_grad = True\n",
    "e = x**2\n",
    "g = e + x\n",
    "h = torch.log(g)\n",
    "k = torch.sin(h)\n",
    "\n",
    "k.backward()\n",
    "automatic = x.grad\n",
    "print('Letting PyTorch automatically find the derivative: {}'.format(automatic))"
   ]
  },
  {
   "cell_type": "markdown",
   "id": "ee021bc6",
   "metadata": {
    "slideshow": {
     "slide_type": "fragment"
    }
   },
   "source": [
    "So neither option.... what's going on? Where's the error? "
   ]
  },
  {
   "cell_type": "markdown",
   "id": "ddd7bb14",
   "metadata": {
    "slideshow": {
     "slide_type": "slide"
    }
   },
   "source": [
    "Since g is composed from two operations, let's take some partial derivatives: \n",
    "\n",
    "$$\n",
    "\\begin{matrix}\n",
    "    \\frac{\\partial}{\\partial e}g(e,x) = 1 + 0 = 1\n",
    "    \\mathbf{\\frac{\\partial}{\\partial x}g(e,x) = 0 + 1 = 1}\n",
    "\\end{matrix}\n",
    "$$\n",
    "\n",
    "The $\\frac{\\partial e}{\\partial x} \\neq 0$!"
   ]
  },
  {
   "cell_type": "markdown",
   "id": "a0a95ddf",
   "metadata": {
    "slideshow": {
     "slide_type": "fragment"
    }
   },
   "source": [
    "<img align=\"center\" src=\"img/comp_graph_example2_1d.png\" width=\"700px\" style=\"padding:30px;border:thin solid white;\"> "
   ]
  },
  {
   "cell_type": "markdown",
   "id": "25a8bf2f",
   "metadata": {},
   "source": [
    "### Total derivative rule"
   ]
  },
  {
   "cell_type": "markdown",
   "id": "d48112e5",
   "metadata": {},
   "source": [
    "The law of total derivatives states that in ordercompute $\\frac{\\partial g(e,x)}{\\partial x}$ we need to sum up all possibel contributions from $x$. \n",
    "\n",
    "$$ \n",
    "\\frac{\\partial g(e,x)}{\\partial x} = \\frac{\\partial g(e,x)}{\\partial x} + \\frac{\\partial g(e,x)}{\\partial e}\\frac{\\partial e(x)}{\\partial x}\n",
    "$$"
   ]
  },
  {
   "cell_type": "markdown",
   "id": "9aebe3d7",
   "metadata": {},
   "source": [
    "Since g is composed from two operations, let's take some partial derivatives: \n",
    "\n",
    "So the question is what does \\frac{df}{dx} look like: \n",
    "\n",
    "$$\\frac{df}{dx} = \\left.\\frac{dk}{dh}\\right|_{h(g)} \\cdot \\left.\\frac{dh}{dg}\\right|_{g(x)} \\cdot \\left(\\left.\\frac{dg}{de}\\right|_{e(x)} \\cdot \\left.\\frac{de}{dx}\\right|_x + \\left.\\frac{dg}{dx}\\right|_x \\right)$$\n",
    "\n",
    "$$\\frac{df}{dx} = \\cos(h(g)) \\cdot \\frac{1}{g(x)} \\cdot \\left( 1 \\cdot 2x + 1\\right) = \\cos(\\log(x^2+1)) \\cdot \\frac{1}{x^2+1} \\cdot \\left( 2x + 1\\right)= \\frac{\\left( 2x + 1\\right)\\cos(\\log(x^2+1))}{x^2+1}$$\n",
    "\n",
    "At $x=1$, $\\frac{df}{dx} = 1.1539$!"
   ]
  },
  {
   "cell_type": "markdown",
   "id": "7cbffbc1",
   "metadata": {
    "slideshow": {
     "slide_type": "slide"
    }
   },
   "source": [
    "## Computation Graphs"
   ]
  },
  {
   "cell_type": "markdown",
   "id": "2a7bc493",
   "metadata": {
    "slideshow": {
     "slide_type": "fragment"
    }
   },
   "source": [
    "As we saw, calculuating the gradient relies on us knwoing exactly how inputs propogate through a computation. This is the exact reason for a computation graph. "
   ]
  },
  {
   "cell_type": "markdown",
   "id": "845f3c01",
   "metadata": {
    "slideshow": {
     "slide_type": "slide"
    }
   },
   "source": [
    "New example: \n",
    "\n",
    "$$\n",
    "\\begin{align*}\n",
    "f(x, y) &= x^2\\cos(xy)+1\\\\\n",
    "f(x, y) &= f_1(f_2(f_3(x,y),f_4(f_5(x, y)))))\\\\\n",
    "f_5(x, y) &= xy\\\\\n",
    "f_4(f_5) &= \\cos(f_5)\\\\\n",
    "f_3(x, y) &= x^2\\\\\n",
    "f_2(f_3, f_4) &= f_3f_4\\\\\n",
    "f_1(f_2) &= f_2+1\\\\\n",
    "f(x, y) &= f_1\n",
    "\\end{align*}\n",
    "$$\n",
    "\n",
    "<div>\n",
    "<center><img src=\"img/computational_graph.png\" width=\"800\"/> </center>\n",
    "</div>"
   ]
  },
  {
   "cell_type": "markdown",
   "id": "64df57e6",
   "metadata": {
    "slideshow": {
     "slide_type": "fragment"
    }
   },
   "source": [
    "So the question, we want to make $f(x,y)$ to be 0. How should we change $x$/$y$ to minimize $f(x,y)$? What direction should we change each input? \n",
    "\n",
    "Recall from prior lectures that knowing the gradient (derivative) can help us know which way to adjust the inputs. However, to callcuulate the gradient we need to know: \n",
    "\n",
    "- The actual computation values for the current input values (forward pass)\n",
    "- The derivative for each decomposed step (backward pass)\n",
    "- The sum of all these derivative a la cchain rule (accummulate) "
   ]
  },
  {
   "cell_type": "markdown",
   "id": "d3884eff",
   "metadata": {
    "slideshow": {
     "slide_type": "slide"
    }
   },
   "source": [
    "### Forward pass\n",
    "The forward pass through a computational graph is the direct calculation of applying the represented function to the provided inputs. Starting from every **input node**, $w_1$ and $w_2$ in our example, we follow each directed edge to the next node and perform the indicated operation to the available input(s) to generate the intermediate value at this next node. The next node then transmits this result to any of its **successor nodes** and so on until we reach any node(s) that have no successors. For the purposes of backpropagation, we refer to these end nodes with no successors as **seed nodes**. Below, we depict the forward pass through $f(x, y) = x^2\\cos(xy)+1$ for $(x, y)=(2, \\frac{\\pi}{2})$.\n",
    "\n",
    "<div>\n",
    "<center><img src=\"img/forward_pass.png\" width=\"800\"/> </center>\n",
    "</div>\n"
   ]
  },
  {
   "cell_type": "markdown",
   "id": "17efa6c9",
   "metadata": {
    "slideshow": {
     "slide_type": "slide"
    }
   },
   "source": [
    "### Backward pass\n",
    "\n",
    "After completing the forward pass, we now have exact values of the computation from each node. We also know the operation performed along each edge as each successor node may store the operation performed to obtain its result and the nodes for which it acts as the successor. For example, node $w_6$ performs the multiplication operation from nodes $w_3$ and $w_5$, i.e. $w_6=w_3w_5$. In summary, we have values at each node, operations at each node, and a directed acyclic graph structure which may be traversed backwards from each seed node.\n",
    "<div>\n",
    "<center><img src=\"img/backprop_partial.png\" width=\"800\"/> </center>\n",
    "</div>"
   ]
  },
  {
   "cell_type": "markdown",
   "id": "ba188787",
   "metadata": {
    "slideshow": {
     "slide_type": "slide"
    }
   },
   "source": [
    "### Accumulating Gradients\n",
    "Propagating these partial derivatives and accumulating more complicated derivatives by chain rule at each node, however, still requires some coordination. We refer to these accumulated partial derivatives along the backward pass as the **adjoint** at each node and we denote the adjoint at node $i$ as $\\bar{w}_i$. The **adjoint** at each node is calculated by\n",
    "\n",
    "$$\n",
    "\\begin{align*}\n",
    "    \\bar{w}_i &= \\frac{\\partial f}{\\partial w_i}\\\\\n",
    "    \\bar{w}_i &= \\sum_{j\\in\\textrm{successors}(w_i)}\\bar{w}_j\\frac{\\partial w_j}{\\partial w_i}.\n",
    "\\end{align*}\n",
    "$$\n",
    "\n",
    "Let's compute the adjoint values for the above computational graph to gain some intuition for the above equations. We first have $\\bar{w}_7$ as the \"base case\" since $f(x, y)=w_7$; thus,\n",
    "\\begin{align*}\n",
    "    \\bar{w}_7 &= \\frac{\\partial f}{\\partial w_7}\\\\\n",
    "             &=1.\n",
    "\\end{align*}\n",
    "\n",
    "Next, $w_7$ backpropagates to its predecessor $w_6$:\n",
    "\\begin{align*}\n",
    "    \\bar{w}_6 &= \\bar{w}_7\\frac{\\partial w_7}{\\partial w_6}\\\\\n",
    "    &= \\frac{\\partial f}{\\partial w_7}\\frac{\\partial w_7}{\\partial w_6}\\\\\n",
    "    &= 1\\\\\n",
    "\\end{align*}\n",
    "\n",
    "<div>\n",
    "    <center><img src=\"./img/backprop_adjoint.png\" width=\"800\"/></center>\n",
    "</div>\n"
   ]
  },
  {
   "cell_type": "markdown",
   "id": "3fdec562",
   "metadata": {
    "slideshow": {
     "slide_type": "slide"
    }
   },
   "source": [
    "Altogether, we arrive at our final backpropagation results and final partial derivatives at the input nodes $\\frac{\\partial f}{\\partial x}$ and $\\frac{\\partial f}{\\partial y}$.\n",
    "\n",
    "<div>\n",
    "    <center><img src=\"img/backprop_full.png\" width=\"800\"/></center>\n",
    "</div>\n",
    "\n",
    "The entire procedure of backpropagation only requires one forward pass through the computational graph to establish the values at each node and one backward pass to accumulate gradients from seed nodes back through the entire graph. The backward pass is made significantly more efficient by the computed adjoint values that represent the accumulated gradients up to that node via chain rule. Each predecessor node re-uses the adjoint values of its successors and accumulates the partial derivatives of its successors with respect to itself. Thus, backpropagation may be seen as a form of **dynamic programming** as we recursively re-use previous computation for the next iteration or step of the algorithm."
   ]
  },
  {
   "cell_type": "code",
   "execution_count": 1,
   "id": "c6054f8f-4dff-495e-9a15-1718aaebba93",
   "metadata": {
    "slideshow": {
     "slide_type": "slide"
    }
   },
   "outputs": [
    {
     "name": "stdout",
     "output_type": "stream",
     "text": [
      "Comparing our calculations to PyTorch Autograd:\n",
      "w1: Manual = tensor([-0.0931]), PyTorch = tensor([-0.0931])\n",
      "w2: Manual = tensor([-0.8660]), PyTorch = tensor([-0.8660])\n",
      "w3: Manual = tensor([0.5000], grad_fn=<CosBackward0>), PyTorch = tensor([0.5000])\n",
      "w4: Manual = tensor([0.8660]), PyTorch = tensor([0.8660])\n",
      "w5: Manual = tensor([1.], grad_fn=<PowBackward0>), PyTorch = tensor([1.])\n",
      "w6: Manual = 1, PyTorch = tensor([1.])\n",
      "w7: Manual = 1, PyTorch = tensor([1.])\n"
     ]
    }
   ],
   "source": [
    "import torch\n",
    "import numpy as np\n",
    "\n",
    "x = torch.tensor([float(-1)], requires_grad=True) # make sure gradients are computed when backpropagation is called\n",
    "y = torch.tensor([np.pi/3], requires_grad=True)\n",
    "\n",
    "w1 = x\n",
    "w2 = y\n",
    "w3 = w1**2\n",
    "w4 = w1*w2\n",
    "w5 = torch.cos(w4)\n",
    "w6 = w3*w5\n",
    "w7 = w6+1\n",
    "f = w7\n",
    "\n",
    "# manual gradients\n",
    "with torch.no_grad():\n",
    "    # adjoints\n",
    "    w7bar = 1\n",
    "    w6bar = 1\n",
    "    w5bar = w3\n",
    "    w4bar = -w3*torch.sin(w4)\n",
    "    w3bar = w5\n",
    "    w2bar = -w1*w3*torch.sin(w4)\n",
    "    w1bar = 2*w1*w5 - w2*w3*torch.sin(w4)\n",
    "    \n",
    "# automatic gradients via backpropagation\n",
    "w3.retain_grad(), w4.retain_grad(), w5.retain_grad(), w6.retain_grad(), w7.retain_grad() # making sure PyTorch populates all gradients\n",
    "f.backward() # initiate backpropagation from f as the seed node\n",
    "\n",
    "print('Comparing our calculations to PyTorch Autograd:')\n",
    "print('w1: Manual = {}, PyTorch = {}'.format(w1bar, w1.grad))\n",
    "print('w2: Manual = {}, PyTorch = {}'.format(w2bar, w2.grad))\n",
    "print('w3: Manual = {}, PyTorch = {}'.format(w3bar, w3.grad))\n",
    "print('w4: Manual = {}, PyTorch = {}'.format(w4bar, w4.grad))\n",
    "print('w5: Manual = {}, PyTorch = {}'.format(w5bar, w5.grad))\n",
    "print('w6: Manual = {}, PyTorch = {}'.format(w6bar, w6.grad))\n",
    "print('w7: Manual = {}, PyTorch = {}'.format(w7bar, w7.grad))"
   ]
  },
  {
   "cell_type": "markdown",
   "id": "9ee6e014",
   "metadata": {
    "slideshow": {
     "slide_type": "slide"
    }
   },
   "source": [
    "## That's it for today\n",
    "\n",
    "Next time we will be discussing gradient descent in great detail. "
   ]
  },
  {
   "cell_type": "markdown",
   "id": "10bcdf15",
   "metadata": {
    "slideshow": {
     "slide_type": "slide"
    }
   },
   "source": [
    "## Chain rule for matrices:"
   ]
  },
  {
   "cell_type": "markdown",
   "id": "71fe077e",
   "metadata": {
    "slideshow": {
     "slide_type": "fragment"
    }
   },
   "source": [
    "Suppose we have a function  \n",
    "$$ f(x) = \\left[f_1(x), f_2(x)\\right] $$  \n",
    "And a second 2-dimensional function: $$ g(y) = \\left[g_1(y_1, y_2), g_2(y_1, y_2)\\right] $$  \n",
    "Now let’s compose them to get: \n",
    "$$ g(x) = [g_1(f_1(x), f_2(x)), g_2(f_1(x), f_2(x))] $$. \n",
    "\n",
    "Using the regular chain rule, we can compute the derivative of $ g $ as the Jacobian  \n",
    "\n",
    "$$\n",
    "\\frac{\\partial g}{\\partial x} =\n",
    "\\begin{bmatrix}\n",
    "\\frac{\\partial}{\\partial x} g_1(f_1(x), f_2(x)) \\\\\n",
    "\\frac{\\partial}{\\partial x} g_2(f_1(x), f_2(x))\n",
    "\\end{bmatrix}\n",
    "=\n",
    "\\begin{bmatrix}\n",
    "\\frac{\\partial g_1}{\\partial y_1} \\frac{\\partial f_1}{\\partial x} + \\frac{\\partial g_1}{\\partial y_2} \\frac{\\partial f_2}{\\partial x} \\\\\n",
    "\\frac{\\partial g_2}{\\partial y_1} \\frac{\\partial f_1}{\\partial x} + \\frac{\\partial g_2}{\\partial y_2} \\frac{\\partial f_2}{\\partial x}\n",
    "\\end{bmatrix}\n",
    "$$\n",
    "And we see this is the same as multiplying the two Jacobians:\n",
    "$$\n",
    "\\frac{\\partial g}{\\partial x} = \\frac{\\partial g}{\\partial f} \\frac{\\partial f}{\\partial x} =\n",
    "\\begin{bmatrix}\n",
    "\\frac{\\partial g_1}{\\partial f_1} & \\frac{\\partial g_1}{\\partial f_2} \\\\\n",
    "\\frac{\\partial g_2}{\\partial f_1} & \\frac{\\partial g_2}{\\partial f_2}\n",
    "\\end{bmatrix}\n",
    "\\begin{bmatrix}\n",
    "\\frac{\\partial f_1}{\\partial x} \\\\\n",
    "\\frac{\\partial f_2}{\\partial x}\n",
    "\\end{bmatrix}\n",
    "$$\n",
    "\n",
    "[1]"
   ]
  },
  {
   "cell_type": "markdown",
   "id": "5db49c4f",
   "metadata": {},
   "source": [
    "## References\n",
    "\n",
    "[1] [Kevin Clark, \"Computing Neural Networks\"](https://web.stanford.edu/class/cs224n/readings/gradient-notes.pdf)\n",
    "\n",
    "[2] [Terence Parr and Jeremy Howard, \"The Matrix Calculus you need for deep learning\"](https://arxiv.org/pdf/1802.01528)\n",
    "\n",
    "[3] [ezyang, \"PyTorch internals\"]()"
   ]
  },
  {
   "cell_type": "code",
   "execution_count": null,
   "id": "067e83c1",
   "metadata": {},
   "outputs": [],
   "source": []
  }
 ],
 "metadata": {
  "celltoolbar": "Slideshow",
  "kernelspec": {
   "display_name": "Python 3 (ipykernel)",
   "language": "python",
   "name": "python3"
  },
  "language_info": {
   "codemirror_mode": {
    "name": "ipython",
    "version": 3
   },
   "file_extension": ".py",
   "mimetype": "text/x-python",
   "name": "python",
   "nbconvert_exporter": "python",
   "pygments_lexer": "ipython3",
   "version": "3.11.11"
  }
 },
 "nbformat": 4,
 "nbformat_minor": 5
}
